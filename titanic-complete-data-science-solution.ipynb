{
 "cells": [
  {
   "cell_type": "markdown",
   "id": "a8ee9fa2",
   "metadata": {
    "papermill": {
     "duration": 0.022122,
     "end_time": "2022-06-29T06:19:57.757697",
     "exception": false,
     "start_time": "2022-06-29T06:19:57.735575",
     "status": "completed"
    },
    "tags": []
   },
   "source": [
    "<h1>Titanic - Complete Data Science Solution</h1>"
   ]
  },
  {
   "cell_type": "markdown",
   "id": "a8daa10a",
   "metadata": {
    "papermill": {
     "duration": 0.020154,
     "end_time": "2022-06-29T06:19:57.798337",
     "exception": false,
     "start_time": "2022-06-29T06:19:57.778183",
     "status": "completed"
    },
    "tags": []
   },
   "source": [
    "![](https://cdn.britannica.com/68/185468-050-267B9304/Titanic-iceberg-British-15-1912.jpg)\n",
    "\n",
    "Reference: [Encyclopedia Britannica](https://www.britannica.com/topic/Titanic)"
   ]
  },
  {
   "cell_type": "markdown",
   "id": "83f86bd9",
   "metadata": {
    "papermill": {
     "duration": 0.02085,
     "end_time": "2022-06-29T06:19:57.839567",
     "exception": false,
     "start_time": "2022-06-29T06:19:57.818717",
     "status": "completed"
    },
    "tags": []
   },
   "source": [
    "<div class = \"alert alert-success\">\n",
    "  <h3 style = \"color:black;\">Problem Statement</h3>\n",
    "</div>\n",
    "On April 15, 1912, during her maiden voyage, the \"unsinkable\" Titanic sank after colliding with an iceberg. This unfortunate incident resulted in the demise of 1502 out of 2224 passengers and crew.\n",
    "\n",
    "Create a model that can determine, given a labelled training set of samples listing passengers who either did or did not survive the disaster, which of the passengers on the test dataset would have survived.\n",
    "\n",
    "*Dataset description*\n",
    "\n",
    "survival: Survival (0 = No, 1 = Yes)\n",
    "\n",
    "pclass: Ticket class (1 = 1st, 2 = 2nd, 3 = 3rd)\n",
    "\n",
    "sex: Sex\n",
    "\n",
    "Age: Age in years\n",
    "\n",
    "sibsp: # of siblings / spouses aboard the Titanic\n",
    "\n",
    "parch: # of parents / children aboard the Titanic\n",
    "\n",
    "ticket: Ticket number\n",
    "\n",
    "fare: Passenger fare\n",
    "\n",
    "cabin: Cabin number\n",
    "\n",
    "embarked: Port of Embarkation (C = Cherbourg, Q = Queenstown, S = Southampton)"
   ]
  },
  {
   "cell_type": "markdown",
   "id": "068211a1",
   "metadata": {
    "papermill": {
     "duration": 0.0203,
     "end_time": "2022-06-29T06:19:57.880365",
     "exception": false,
     "start_time": "2022-06-29T06:19:57.860065",
     "status": "completed"
    },
    "tags": []
   },
   "source": [
    "<div class = \"alert alert-success\">\n",
    "  <h3 style = \"color:black;\">Importing relevant components</h3>\n",
    "</div>"
   ]
  },
  {
   "cell_type": "markdown",
   "id": "fd1aaf77",
   "metadata": {
    "papermill": {
     "duration": 0.020522,
     "end_time": "2022-06-29T06:19:57.922267",
     "exception": false,
     "start_time": "2022-06-29T06:19:57.901745",
     "status": "completed"
    },
    "tags": []
   },
   "source": [
    "<h3>Libraries</h3>"
   ]
  },
  {
   "cell_type": "code",
   "execution_count": 1,
   "id": "41ae893c",
   "metadata": {
    "execution": {
     "iopub.execute_input": "2022-06-29T06:19:57.965579Z",
     "iopub.status.busy": "2022-06-29T06:19:57.964694Z",
     "iopub.status.idle": "2022-06-29T06:19:59.454224Z",
     "shell.execute_reply": "2022-06-29T06:19:59.453203Z"
    },
    "papermill": {
     "duration": 1.514065,
     "end_time": "2022-06-29T06:19:59.456864",
     "exception": false,
     "start_time": "2022-06-29T06:19:57.942799",
     "status": "completed"
    },
    "tags": []
   },
   "outputs": [],
   "source": [
    "# For data manipulation and visualization\n",
    "import numpy as np\n",
    "import pandas as pd\n",
    "# import pandas_profiling\n",
    "import matplotlib.pyplot as plt\n",
    "import seaborn as sns\n",
    "\n",
    "# For predictive data analysis\n",
    "from sklearn.preprocessing import OneHotEncoder, LabelEncoder\n",
    "from sklearn.model_selection import train_test_split\n",
    "from sklearn.tree import DecisionTreeClassifier\n",
    "from sklearn.ensemble import RandomForestClassifier\n",
    "from sklearn.naive_bayes import GaussianNB\n",
    "from sklearn.neighbors import KNeighborsClassifier\n",
    "from sklearn.svm import SVC\n",
    "from sklearn.metrics import confusion_matrix, accuracy_score, precision_recall_curve "
   ]
  },
  {
   "cell_type": "markdown",
   "id": "66c7b103",
   "metadata": {
    "papermill": {
     "duration": 0.020412,
     "end_time": "2022-06-29T06:19:59.499715",
     "exception": false,
     "start_time": "2022-06-29T06:19:59.479303",
     "status": "completed"
    },
    "tags": []
   },
   "source": [
    "**Note:** A common Pandas function is describe() which provides a descriptive statistical summary of all the features of the dataset. pandas_profiling is an improvement on this function and offers web format report generation for the dataset with lots of features and customizations for the report generated. However, it is not compatible with the default Python version on Kaggle, as yet, and has been commented until the issue is solved."
   ]
  },
  {
   "cell_type": "markdown",
   "id": "0331bff4",
   "metadata": {
    "papermill": {
     "duration": 0.020055,
     "end_time": "2022-06-29T06:19:59.540413",
     "exception": false,
     "start_time": "2022-06-29T06:19:59.520358",
     "status": "completed"
    },
    "tags": []
   },
   "source": [
    "<h3>Dataset</h3>\n",
    "While importing the datasets, the \"PassengerId\" field is made the index column."
   ]
  },
  {
   "cell_type": "code",
   "execution_count": 2,
   "id": "4e73f4f0",
   "metadata": {
    "execution": {
     "iopub.execute_input": "2022-06-29T06:19:59.582779Z",
     "iopub.status.busy": "2022-06-29T06:19:59.582376Z",
     "iopub.status.idle": "2022-06-29T06:19:59.622849Z",
     "shell.execute_reply": "2022-06-29T06:19:59.621905Z"
    },
    "papermill": {
     "duration": 0.064479,
     "end_time": "2022-06-29T06:19:59.625191",
     "exception": false,
     "start_time": "2022-06-29T06:19:59.560712",
     "status": "completed"
    },
    "tags": []
   },
   "outputs": [],
   "source": [
    "train = pd.read_csv(\"../input/titanic/train.csv\", index_col = \"PassengerId\")\n",
    "test = pd.read_csv(\"../input/titanic/test.csv\", index_col = \"PassengerId\")"
   ]
  },
  {
   "cell_type": "code",
   "execution_count": 3,
   "id": "46178f2f",
   "metadata": {
    "execution": {
     "iopub.execute_input": "2022-06-29T06:19:59.669388Z",
     "iopub.status.busy": "2022-06-29T06:19:59.668525Z",
     "iopub.status.idle": "2022-06-29T06:19:59.692591Z",
     "shell.execute_reply": "2022-06-29T06:19:59.691756Z"
    },
    "papermill": {
     "duration": 0.048186,
     "end_time": "2022-06-29T06:19:59.694590",
     "exception": false,
     "start_time": "2022-06-29T06:19:59.646404",
     "status": "completed"
    },
    "tags": []
   },
   "outputs": [
    {
     "data": {
      "text/html": [
       "<div>\n",
       "<style scoped>\n",
       "    .dataframe tbody tr th:only-of-type {\n",
       "        vertical-align: middle;\n",
       "    }\n",
       "\n",
       "    .dataframe tbody tr th {\n",
       "        vertical-align: top;\n",
       "    }\n",
       "\n",
       "    .dataframe thead th {\n",
       "        text-align: right;\n",
       "    }\n",
       "</style>\n",
       "<table border=\"1\" class=\"dataframe\">\n",
       "  <thead>\n",
       "    <tr style=\"text-align: right;\">\n",
       "      <th></th>\n",
       "      <th>Survived</th>\n",
       "      <th>Pclass</th>\n",
       "      <th>Name</th>\n",
       "      <th>Sex</th>\n",
       "      <th>Age</th>\n",
       "      <th>SibSp</th>\n",
       "      <th>Parch</th>\n",
       "      <th>Ticket</th>\n",
       "      <th>Fare</th>\n",
       "      <th>Cabin</th>\n",
       "      <th>Embarked</th>\n",
       "    </tr>\n",
       "    <tr>\n",
       "      <th>PassengerId</th>\n",
       "      <th></th>\n",
       "      <th></th>\n",
       "      <th></th>\n",
       "      <th></th>\n",
       "      <th></th>\n",
       "      <th></th>\n",
       "      <th></th>\n",
       "      <th></th>\n",
       "      <th></th>\n",
       "      <th></th>\n",
       "      <th></th>\n",
       "    </tr>\n",
       "  </thead>\n",
       "  <tbody>\n",
       "    <tr>\n",
       "      <th>1</th>\n",
       "      <td>0</td>\n",
       "      <td>3</td>\n",
       "      <td>Braund, Mr. Owen Harris</td>\n",
       "      <td>male</td>\n",
       "      <td>22.0</td>\n",
       "      <td>1</td>\n",
       "      <td>0</td>\n",
       "      <td>A/5 21171</td>\n",
       "      <td>7.2500</td>\n",
       "      <td>NaN</td>\n",
       "      <td>S</td>\n",
       "    </tr>\n",
       "    <tr>\n",
       "      <th>2</th>\n",
       "      <td>1</td>\n",
       "      <td>1</td>\n",
       "      <td>Cumings, Mrs. John Bradley (Florence Briggs Th...</td>\n",
       "      <td>female</td>\n",
       "      <td>38.0</td>\n",
       "      <td>1</td>\n",
       "      <td>0</td>\n",
       "      <td>PC 17599</td>\n",
       "      <td>71.2833</td>\n",
       "      <td>C85</td>\n",
       "      <td>C</td>\n",
       "    </tr>\n",
       "    <tr>\n",
       "      <th>3</th>\n",
       "      <td>1</td>\n",
       "      <td>3</td>\n",
       "      <td>Heikkinen, Miss. Laina</td>\n",
       "      <td>female</td>\n",
       "      <td>26.0</td>\n",
       "      <td>0</td>\n",
       "      <td>0</td>\n",
       "      <td>STON/O2. 3101282</td>\n",
       "      <td>7.9250</td>\n",
       "      <td>NaN</td>\n",
       "      <td>S</td>\n",
       "    </tr>\n",
       "    <tr>\n",
       "      <th>4</th>\n",
       "      <td>1</td>\n",
       "      <td>1</td>\n",
       "      <td>Futrelle, Mrs. Jacques Heath (Lily May Peel)</td>\n",
       "      <td>female</td>\n",
       "      <td>35.0</td>\n",
       "      <td>1</td>\n",
       "      <td>0</td>\n",
       "      <td>113803</td>\n",
       "      <td>53.1000</td>\n",
       "      <td>C123</td>\n",
       "      <td>S</td>\n",
       "    </tr>\n",
       "    <tr>\n",
       "      <th>5</th>\n",
       "      <td>0</td>\n",
       "      <td>3</td>\n",
       "      <td>Allen, Mr. William Henry</td>\n",
       "      <td>male</td>\n",
       "      <td>35.0</td>\n",
       "      <td>0</td>\n",
       "      <td>0</td>\n",
       "      <td>373450</td>\n",
       "      <td>8.0500</td>\n",
       "      <td>NaN</td>\n",
       "      <td>S</td>\n",
       "    </tr>\n",
       "  </tbody>\n",
       "</table>\n",
       "</div>"
      ],
      "text/plain": [
       "             Survived  Pclass  \\\n",
       "PassengerId                     \n",
       "1                   0       3   \n",
       "2                   1       1   \n",
       "3                   1       3   \n",
       "4                   1       1   \n",
       "5                   0       3   \n",
       "\n",
       "                                                          Name     Sex   Age  \\\n",
       "PassengerId                                                                    \n",
       "1                                      Braund, Mr. Owen Harris    male  22.0   \n",
       "2            Cumings, Mrs. John Bradley (Florence Briggs Th...  female  38.0   \n",
       "3                                       Heikkinen, Miss. Laina  female  26.0   \n",
       "4                 Futrelle, Mrs. Jacques Heath (Lily May Peel)  female  35.0   \n",
       "5                                     Allen, Mr. William Henry    male  35.0   \n",
       "\n",
       "             SibSp  Parch            Ticket     Fare Cabin Embarked  \n",
       "PassengerId                                                          \n",
       "1                1      0         A/5 21171   7.2500   NaN        S  \n",
       "2                1      0          PC 17599  71.2833   C85        C  \n",
       "3                0      0  STON/O2. 3101282   7.9250   NaN        S  \n",
       "4                1      0            113803  53.1000  C123        S  \n",
       "5                0      0            373450   8.0500   NaN        S  "
      ]
     },
     "execution_count": 3,
     "metadata": {},
     "output_type": "execute_result"
    }
   ],
   "source": [
    "train.head()"
   ]
  },
  {
   "cell_type": "code",
   "execution_count": 4,
   "id": "fedad783",
   "metadata": {
    "execution": {
     "iopub.execute_input": "2022-06-29T06:19:59.739512Z",
     "iopub.status.busy": "2022-06-29T06:19:59.738661Z",
     "iopub.status.idle": "2022-06-29T06:19:59.758666Z",
     "shell.execute_reply": "2022-06-29T06:19:59.757916Z"
    },
    "papermill": {
     "duration": 0.044558,
     "end_time": "2022-06-29T06:19:59.760858",
     "exception": false,
     "start_time": "2022-06-29T06:19:59.716300",
     "status": "completed"
    },
    "tags": []
   },
   "outputs": [
    {
     "data": {
      "text/html": [
       "<div>\n",
       "<style scoped>\n",
       "    .dataframe tbody tr th:only-of-type {\n",
       "        vertical-align: middle;\n",
       "    }\n",
       "\n",
       "    .dataframe tbody tr th {\n",
       "        vertical-align: top;\n",
       "    }\n",
       "\n",
       "    .dataframe thead th {\n",
       "        text-align: right;\n",
       "    }\n",
       "</style>\n",
       "<table border=\"1\" class=\"dataframe\">\n",
       "  <thead>\n",
       "    <tr style=\"text-align: right;\">\n",
       "      <th></th>\n",
       "      <th>Pclass</th>\n",
       "      <th>Name</th>\n",
       "      <th>Sex</th>\n",
       "      <th>Age</th>\n",
       "      <th>SibSp</th>\n",
       "      <th>Parch</th>\n",
       "      <th>Ticket</th>\n",
       "      <th>Fare</th>\n",
       "      <th>Cabin</th>\n",
       "      <th>Embarked</th>\n",
       "    </tr>\n",
       "    <tr>\n",
       "      <th>PassengerId</th>\n",
       "      <th></th>\n",
       "      <th></th>\n",
       "      <th></th>\n",
       "      <th></th>\n",
       "      <th></th>\n",
       "      <th></th>\n",
       "      <th></th>\n",
       "      <th></th>\n",
       "      <th></th>\n",
       "      <th></th>\n",
       "    </tr>\n",
       "  </thead>\n",
       "  <tbody>\n",
       "    <tr>\n",
       "      <th>892</th>\n",
       "      <td>3</td>\n",
       "      <td>Kelly, Mr. James</td>\n",
       "      <td>male</td>\n",
       "      <td>34.5</td>\n",
       "      <td>0</td>\n",
       "      <td>0</td>\n",
       "      <td>330911</td>\n",
       "      <td>7.8292</td>\n",
       "      <td>NaN</td>\n",
       "      <td>Q</td>\n",
       "    </tr>\n",
       "    <tr>\n",
       "      <th>893</th>\n",
       "      <td>3</td>\n",
       "      <td>Wilkes, Mrs. James (Ellen Needs)</td>\n",
       "      <td>female</td>\n",
       "      <td>47.0</td>\n",
       "      <td>1</td>\n",
       "      <td>0</td>\n",
       "      <td>363272</td>\n",
       "      <td>7.0000</td>\n",
       "      <td>NaN</td>\n",
       "      <td>S</td>\n",
       "    </tr>\n",
       "    <tr>\n",
       "      <th>894</th>\n",
       "      <td>2</td>\n",
       "      <td>Myles, Mr. Thomas Francis</td>\n",
       "      <td>male</td>\n",
       "      <td>62.0</td>\n",
       "      <td>0</td>\n",
       "      <td>0</td>\n",
       "      <td>240276</td>\n",
       "      <td>9.6875</td>\n",
       "      <td>NaN</td>\n",
       "      <td>Q</td>\n",
       "    </tr>\n",
       "    <tr>\n",
       "      <th>895</th>\n",
       "      <td>3</td>\n",
       "      <td>Wirz, Mr. Albert</td>\n",
       "      <td>male</td>\n",
       "      <td>27.0</td>\n",
       "      <td>0</td>\n",
       "      <td>0</td>\n",
       "      <td>315154</td>\n",
       "      <td>8.6625</td>\n",
       "      <td>NaN</td>\n",
       "      <td>S</td>\n",
       "    </tr>\n",
       "    <tr>\n",
       "      <th>896</th>\n",
       "      <td>3</td>\n",
       "      <td>Hirvonen, Mrs. Alexander (Helga E Lindqvist)</td>\n",
       "      <td>female</td>\n",
       "      <td>22.0</td>\n",
       "      <td>1</td>\n",
       "      <td>1</td>\n",
       "      <td>3101298</td>\n",
       "      <td>12.2875</td>\n",
       "      <td>NaN</td>\n",
       "      <td>S</td>\n",
       "    </tr>\n",
       "  </tbody>\n",
       "</table>\n",
       "</div>"
      ],
      "text/plain": [
       "             Pclass                                          Name     Sex  \\\n",
       "PassengerId                                                                 \n",
       "892               3                              Kelly, Mr. James    male   \n",
       "893               3              Wilkes, Mrs. James (Ellen Needs)  female   \n",
       "894               2                     Myles, Mr. Thomas Francis    male   \n",
       "895               3                              Wirz, Mr. Albert    male   \n",
       "896               3  Hirvonen, Mrs. Alexander (Helga E Lindqvist)  female   \n",
       "\n",
       "              Age  SibSp  Parch   Ticket     Fare Cabin Embarked  \n",
       "PassengerId                                                       \n",
       "892          34.5      0      0   330911   7.8292   NaN        Q  \n",
       "893          47.0      1      0   363272   7.0000   NaN        S  \n",
       "894          62.0      0      0   240276   9.6875   NaN        Q  \n",
       "895          27.0      0      0   315154   8.6625   NaN        S  \n",
       "896          22.0      1      1  3101298  12.2875   NaN        S  "
      ]
     },
     "execution_count": 4,
     "metadata": {},
     "output_type": "execute_result"
    }
   ],
   "source": [
    "test.head()"
   ]
  },
  {
   "cell_type": "markdown",
   "id": "e188673c",
   "metadata": {
    "papermill": {
     "duration": 0.020952,
     "end_time": "2022-06-29T06:19:59.805604",
     "exception": false,
     "start_time": "2022-06-29T06:19:59.784652",
     "status": "completed"
    },
    "tags": []
   },
   "source": [
    "<div class = \"alert alert-success\">\n",
    "  <h3 style = \"color:black;\">Data wrangling</h3>\n",
    "</div>"
   ]
  },
  {
   "cell_type": "markdown",
   "id": "11abdc1f",
   "metadata": {
    "papermill": {
     "duration": 0.020674,
     "end_time": "2022-06-29T06:19:59.847245",
     "exception": false,
     "start_time": "2022-06-29T06:19:59.826571",
     "status": "completed"
    },
    "tags": []
   },
   "source": [
    "Data wrangling is the process of cleaning and unifying messy datasets for easy access and analysis. It is essentially the act of transforming data from a generally raw form to a more appropriate and valuable form, therbey making it suitable for a variety of downstream purposes such as analytics.\n",
    "\n",
    "Using Pandas, we can describe the dataset and attain an in-depth understanding of the nature of our data. Using this understanding, we may then proceed to clean the data. As the popular aphorism goes... \"Garbage in, garbage out.\" The measure of a created model will be highly dependant on the data used to create it. Thus, data wrangling is a pivotal step in the predictive data analysis pipeline. "
   ]
  },
  {
   "cell_type": "markdown",
   "id": "0dc1fcde",
   "metadata": {
    "papermill": {
     "duration": 0.020806,
     "end_time": "2022-06-29T06:19:59.888972",
     "exception": false,
     "start_time": "2022-06-29T06:19:59.868166",
     "status": "completed"
    },
    "tags": []
   },
   "source": [
    "**How many rows and columns do we have?**"
   ]
  },
  {
   "cell_type": "code",
   "execution_count": 5,
   "id": "4bd0c8ab",
   "metadata": {
    "execution": {
     "iopub.execute_input": "2022-06-29T06:19:59.933561Z",
     "iopub.status.busy": "2022-06-29T06:19:59.932842Z",
     "iopub.status.idle": "2022-06-29T06:19:59.939438Z",
     "shell.execute_reply": "2022-06-29T06:19:59.938602Z"
    },
    "papermill": {
     "duration": 0.031228,
     "end_time": "2022-06-29T06:19:59.941396",
     "exception": false,
     "start_time": "2022-06-29T06:19:59.910168",
     "status": "completed"
    },
    "tags": []
   },
   "outputs": [
    {
     "data": {
      "text/plain": [
       "(891, 11)"
      ]
     },
     "execution_count": 5,
     "metadata": {},
     "output_type": "execute_result"
    }
   ],
   "source": [
    "train.shape"
   ]
  },
  {
   "cell_type": "code",
   "execution_count": 6,
   "id": "dc9e3847",
   "metadata": {
    "execution": {
     "iopub.execute_input": "2022-06-29T06:19:59.985643Z",
     "iopub.status.busy": "2022-06-29T06:19:59.984907Z",
     "iopub.status.idle": "2022-06-29T06:19:59.991199Z",
     "shell.execute_reply": "2022-06-29T06:19:59.990294Z"
    },
    "papermill": {
     "duration": 0.030708,
     "end_time": "2022-06-29T06:19:59.993144",
     "exception": false,
     "start_time": "2022-06-29T06:19:59.962436",
     "status": "completed"
    },
    "tags": []
   },
   "outputs": [
    {
     "data": {
      "text/plain": [
       "(418, 10)"
      ]
     },
     "execution_count": 6,
     "metadata": {},
     "output_type": "execute_result"
    }
   ],
   "source": [
    "test.shape"
   ]
  },
  {
   "cell_type": "markdown",
   "id": "4ef8f136",
   "metadata": {
    "papermill": {
     "duration": 0.020903,
     "end_time": "2022-06-29T06:20:00.034937",
     "exception": false,
     "start_time": "2022-06-29T06:20:00.014034",
     "status": "completed"
    },
    "tags": []
   },
   "source": [
    "We see that the train dataset has 891 records (rows) and 11 attributes/fields (columns). The test dataset has 418 records and 10 attributes. This is expected as the test dataset will not have the label (survived/died). "
   ]
  },
  {
   "cell_type": "markdown",
   "id": "360b790d",
   "metadata": {
    "papermill": {
     "duration": 0.021439,
     "end_time": "2022-06-29T06:20:00.077591",
     "exception": false,
     "start_time": "2022-06-29T06:20:00.056152",
     "status": "completed"
    },
    "tags": []
   },
   "source": [
    "**What features are available in the dataset?**\n",
    "\n",
    "Features and attributes are often used interchangeably. However, to be accurate from a terminology perspective, keep in mind that attributes refer to all available fields while features refer to those attributes used to create the model."
   ]
  },
  {
   "cell_type": "code",
   "execution_count": 7,
   "id": "be465153",
   "metadata": {
    "execution": {
     "iopub.execute_input": "2022-06-29T06:20:00.123347Z",
     "iopub.status.busy": "2022-06-29T06:20:00.122597Z",
     "iopub.status.idle": "2022-06-29T06:20:00.129111Z",
     "shell.execute_reply": "2022-06-29T06:20:00.128311Z"
    },
    "papermill": {
     "duration": 0.031757,
     "end_time": "2022-06-29T06:20:00.131094",
     "exception": false,
     "start_time": "2022-06-29T06:20:00.099337",
     "status": "completed"
    },
    "tags": []
   },
   "outputs": [
    {
     "data": {
      "text/plain": [
       "Index(['Survived', 'Pclass', 'Name', 'Sex', 'Age', 'SibSp', 'Parch', 'Ticket',\n",
       "       'Fare', 'Cabin', 'Embarked'],\n",
       "      dtype='object')"
      ]
     },
     "execution_count": 7,
     "metadata": {},
     "output_type": "execute_result"
    }
   ],
   "source": [
    "train.columns"
   ]
  },
  {
   "cell_type": "code",
   "execution_count": 8,
   "id": "49ee9285",
   "metadata": {
    "execution": {
     "iopub.execute_input": "2022-06-29T06:20:00.175413Z",
     "iopub.status.busy": "2022-06-29T06:20:00.174683Z",
     "iopub.status.idle": "2022-06-29T06:20:00.181205Z",
     "shell.execute_reply": "2022-06-29T06:20:00.180318Z"
    },
    "papermill": {
     "duration": 0.030978,
     "end_time": "2022-06-29T06:20:00.183114",
     "exception": false,
     "start_time": "2022-06-29T06:20:00.152136",
     "status": "completed"
    },
    "tags": []
   },
   "outputs": [
    {
     "data": {
      "text/plain": [
       "Index(['Pclass', 'Name', 'Sex', 'Age', 'SibSp', 'Parch', 'Ticket', 'Fare',\n",
       "       'Cabin', 'Embarked'],\n",
       "      dtype='object')"
      ]
     },
     "execution_count": 8,
     "metadata": {},
     "output_type": "execute_result"
    }
   ],
   "source": [
    "test.columns"
   ]
  },
  {
   "cell_type": "markdown",
   "id": "6dfc6d59",
   "metadata": {
    "papermill": {
     "duration": 0.021363,
     "end_time": "2022-06-29T06:20:00.225983",
     "exception": false,
     "start_time": "2022-06-29T06:20:00.204620",
     "status": "completed"
    },
    "tags": []
   },
   "source": [
    "Categorical fields: These fields have a certain fixed number of valid inputs. May be nominal, ordinal, ratio-based, or interval-based.\n",
    "* Survived\n",
    "* Pclass\n",
    "* Sex\n",
    "* Embarked\n",
    "\n",
    "Continuous fields: These fields have any number of valid inputs within theoretical minimum and maximum values. \n",
    "* Age\n",
    "* Fare\n",
    "* SibSp\n",
    "* Parch\n",
    "\n",
    "Understanding the data type of the various fields aids in selecting appropriate preprocessing and visualization techniques. "
   ]
  },
  {
   "cell_type": "markdown",
   "id": "107c5021",
   "metadata": {
    "papermill": {
     "duration": 0.021315,
     "end_time": "2022-06-29T06:20:00.268765",
     "exception": false,
     "start_time": "2022-06-29T06:20:00.247450",
     "status": "completed"
    },
    "tags": []
   },
   "source": [
    "**Which features contain empty/null values?**\n",
    "\n",
    "Model creation and employment fail when records with empty fields are passed. Thus, it becomes imperative to identify and address such records as early as possible. "
   ]
  },
  {
   "cell_type": "code",
   "execution_count": 9,
   "id": "f27835d8",
   "metadata": {
    "execution": {
     "iopub.execute_input": "2022-06-29T06:20:00.314149Z",
     "iopub.status.busy": "2022-06-29T06:20:00.313465Z",
     "iopub.status.idle": "2022-06-29T06:20:00.322813Z",
     "shell.execute_reply": "2022-06-29T06:20:00.321901Z"
    },
    "papermill": {
     "duration": 0.034292,
     "end_time": "2022-06-29T06:20:00.324797",
     "exception": false,
     "start_time": "2022-06-29T06:20:00.290505",
     "status": "completed"
    },
    "tags": []
   },
   "outputs": [
    {
     "data": {
      "text/plain": [
       "Survived      0\n",
       "Pclass        0\n",
       "Name          0\n",
       "Sex           0\n",
       "Age         177\n",
       "SibSp         0\n",
       "Parch         0\n",
       "Ticket        0\n",
       "Fare          0\n",
       "Cabin       687\n",
       "Embarked      2\n",
       "dtype: int64"
      ]
     },
     "execution_count": 9,
     "metadata": {},
     "output_type": "execute_result"
    }
   ],
   "source": [
    "train.isna().sum()"
   ]
  },
  {
   "cell_type": "code",
   "execution_count": 10,
   "id": "3bbc6e13",
   "metadata": {
    "execution": {
     "iopub.execute_input": "2022-06-29T06:20:00.370099Z",
     "iopub.status.busy": "2022-06-29T06:20:00.369382Z",
     "iopub.status.idle": "2022-06-29T06:20:00.378579Z",
     "shell.execute_reply": "2022-06-29T06:20:00.377814Z"
    },
    "papermill": {
     "duration": 0.034237,
     "end_time": "2022-06-29T06:20:00.380604",
     "exception": false,
     "start_time": "2022-06-29T06:20:00.346367",
     "status": "completed"
    },
    "tags": []
   },
   "outputs": [
    {
     "data": {
      "text/plain": [
       "Pclass        0\n",
       "Name          0\n",
       "Sex           0\n",
       "Age          86\n",
       "SibSp         0\n",
       "Parch         0\n",
       "Ticket        0\n",
       "Fare          1\n",
       "Cabin       327\n",
       "Embarked      0\n",
       "dtype: int64"
      ]
     },
     "execution_count": 10,
     "metadata": {},
     "output_type": "execute_result"
    }
   ],
   "source": [
    "test.isna().sum()"
   ]
  },
  {
   "cell_type": "markdown",
   "id": "ab4e9d10",
   "metadata": {
    "papermill": {
     "duration": 0.021782,
     "end_time": "2022-06-29T06:20:00.425988",
     "exception": false,
     "start_time": "2022-06-29T06:20:00.404206",
     "status": "completed"
    },
    "tags": []
   },
   "source": [
    "It can be seen that we indeed have a considerable number of null values. In the train dataset, the \"Cabin\", \"Age\", and \"Embarked\" fields have 687, 177, and 2 null values respectively. In the test dataset, the \"Cabin\", \"Age\", and \"Fare\" fields have 327, 86, and 1 null values respectively."
   ]
  },
  {
   "cell_type": "markdown",
   "id": "28e63d14",
   "metadata": {
    "papermill": {
     "duration": 0.021328,
     "end_time": "2022-06-29T06:20:00.469093",
     "exception": false,
     "start_time": "2022-06-29T06:20:00.447765",
     "status": "completed"
    },
    "tags": []
   },
   "source": [
    "**Number of unique values in each field**"
   ]
  },
  {
   "cell_type": "code",
   "execution_count": 11,
   "id": "9e3b657a",
   "metadata": {
    "execution": {
     "iopub.execute_input": "2022-06-29T06:20:00.514882Z",
     "iopub.status.busy": "2022-06-29T06:20:00.514144Z",
     "iopub.status.idle": "2022-06-29T06:20:00.526002Z",
     "shell.execute_reply": "2022-06-29T06:20:00.525061Z"
    },
    "papermill": {
     "duration": 0.037296,
     "end_time": "2022-06-29T06:20:00.528079",
     "exception": false,
     "start_time": "2022-06-29T06:20:00.490783",
     "status": "completed"
    },
    "tags": []
   },
   "outputs": [
    {
     "data": {
      "text/plain": [
       "Survived      2\n",
       "Pclass        3\n",
       "Name        891\n",
       "Sex           2\n",
       "Age          88\n",
       "SibSp         7\n",
       "Parch         7\n",
       "Ticket      681\n",
       "Fare        248\n",
       "Cabin       147\n",
       "Embarked      3\n",
       "dtype: int64"
      ]
     },
     "execution_count": 11,
     "metadata": {},
     "output_type": "execute_result"
    }
   ],
   "source": [
    "train.nunique()"
   ]
  },
  {
   "cell_type": "code",
   "execution_count": 12,
   "id": "24d82162",
   "metadata": {
    "execution": {
     "iopub.execute_input": "2022-06-29T06:20:00.574092Z",
     "iopub.status.busy": "2022-06-29T06:20:00.573633Z",
     "iopub.status.idle": "2022-06-29T06:20:00.584212Z",
     "shell.execute_reply": "2022-06-29T06:20:00.583308Z"
    },
    "papermill": {
     "duration": 0.035987,
     "end_time": "2022-06-29T06:20:00.586147",
     "exception": false,
     "start_time": "2022-06-29T06:20:00.550160",
     "status": "completed"
    },
    "tags": []
   },
   "outputs": [
    {
     "data": {
      "text/plain": [
       "Pclass        3\n",
       "Name        418\n",
       "Sex           2\n",
       "Age          79\n",
       "SibSp         7\n",
       "Parch         8\n",
       "Ticket      363\n",
       "Fare        169\n",
       "Cabin        76\n",
       "Embarked      3\n",
       "dtype: int64"
      ]
     },
     "execution_count": 12,
     "metadata": {},
     "output_type": "execute_result"
    }
   ],
   "source": [
    "test.nunique()"
   ]
  },
  {
   "cell_type": "markdown",
   "id": "a9fb2a80",
   "metadata": {
    "papermill": {
     "duration": 0.023634,
     "end_time": "2022-06-29T06:20:00.631862",
     "exception": false,
     "start_time": "2022-06-29T06:20:00.608228",
     "status": "completed"
    },
    "tags": []
   },
   "source": [
    "**What is the data type for each field?**"
   ]
  },
  {
   "cell_type": "code",
   "execution_count": 13,
   "id": "59e8b476",
   "metadata": {
    "execution": {
     "iopub.execute_input": "2022-06-29T06:20:00.678641Z",
     "iopub.status.busy": "2022-06-29T06:20:00.677981Z",
     "iopub.status.idle": "2022-06-29T06:20:00.695619Z",
     "shell.execute_reply": "2022-06-29T06:20:00.694899Z"
    },
    "papermill": {
     "duration": 0.044189,
     "end_time": "2022-06-29T06:20:00.698552",
     "exception": false,
     "start_time": "2022-06-29T06:20:00.654363",
     "status": "completed"
    },
    "tags": []
   },
   "outputs": [
    {
     "name": "stdout",
     "output_type": "stream",
     "text": [
      "<class 'pandas.core.frame.DataFrame'>\n",
      "Int64Index: 891 entries, 1 to 891\n",
      "Data columns (total 11 columns):\n",
      " #   Column    Non-Null Count  Dtype  \n",
      "---  ------    --------------  -----  \n",
      " 0   Survived  891 non-null    int64  \n",
      " 1   Pclass    891 non-null    int64  \n",
      " 2   Name      891 non-null    object \n",
      " 3   Sex       891 non-null    object \n",
      " 4   Age       714 non-null    float64\n",
      " 5   SibSp     891 non-null    int64  \n",
      " 6   Parch     891 non-null    int64  \n",
      " 7   Ticket    891 non-null    object \n",
      " 8   Fare      891 non-null    float64\n",
      " 9   Cabin     204 non-null    object \n",
      " 10  Embarked  889 non-null    object \n",
      "dtypes: float64(2), int64(4), object(5)\n",
      "memory usage: 83.5+ KB\n"
     ]
    }
   ],
   "source": [
    "train.info()"
   ]
  },
  {
   "cell_type": "code",
   "execution_count": 14,
   "id": "f1119e44",
   "metadata": {
    "execution": {
     "iopub.execute_input": "2022-06-29T06:20:00.745223Z",
     "iopub.status.busy": "2022-06-29T06:20:00.744230Z",
     "iopub.status.idle": "2022-06-29T06:20:00.758044Z",
     "shell.execute_reply": "2022-06-29T06:20:00.757166Z"
    },
    "papermill": {
     "duration": 0.039693,
     "end_time": "2022-06-29T06:20:00.760421",
     "exception": false,
     "start_time": "2022-06-29T06:20:00.720728",
     "status": "completed"
    },
    "tags": []
   },
   "outputs": [
    {
     "name": "stdout",
     "output_type": "stream",
     "text": [
      "<class 'pandas.core.frame.DataFrame'>\n",
      "Int64Index: 418 entries, 892 to 1309\n",
      "Data columns (total 10 columns):\n",
      " #   Column    Non-Null Count  Dtype  \n",
      "---  ------    --------------  -----  \n",
      " 0   Pclass    418 non-null    int64  \n",
      " 1   Name      418 non-null    object \n",
      " 2   Sex       418 non-null    object \n",
      " 3   Age       332 non-null    float64\n",
      " 4   SibSp     418 non-null    int64  \n",
      " 5   Parch     418 non-null    int64  \n",
      " 6   Ticket    418 non-null    object \n",
      " 7   Fare      417 non-null    float64\n",
      " 8   Cabin     91 non-null     object \n",
      " 9   Embarked  418 non-null    object \n",
      "dtypes: float64(2), int64(3), object(5)\n",
      "memory usage: 35.9+ KB\n"
     ]
    }
   ],
   "source": [
    "test.info()"
   ]
  },
  {
   "cell_type": "markdown",
   "id": "20a38211",
   "metadata": {
    "papermill": {
     "duration": 0.021925,
     "end_time": "2022-06-29T06:20:00.805104",
     "exception": false,
     "start_time": "2022-06-29T06:20:00.783179",
     "status": "completed"
    },
    "tags": []
   },
   "source": [
    "Looking at the dtype row gives an overview of the data types in the dataset.\n",
    "* The train dataset has 6 floating or integer fields and 5 object (string or another) fields\n",
    "* The test dataset has 5 floating or integer fields and 5 object (string or another) fields"
   ]
  },
  {
   "cell_type": "markdown",
   "id": "58f957a0",
   "metadata": {
    "papermill": {
     "duration": 0.021894,
     "end_time": "2022-06-29T06:20:00.849272",
     "exception": false,
     "start_time": "2022-06-29T06:20:00.827378",
     "status": "completed"
    },
    "tags": []
   },
   "source": [
    "**What is the statistical distribution of data in each feature?**\n",
    "\n",
    "By default, the following function only considers numerical features. To generate descriptive statistics for categorical features as well, include the optional argument 'include = [O]' in the function call."
   ]
  },
  {
   "cell_type": "code",
   "execution_count": 15,
   "id": "1762cad4",
   "metadata": {
    "execution": {
     "iopub.execute_input": "2022-06-29T06:20:00.895627Z",
     "iopub.status.busy": "2022-06-29T06:20:00.895199Z",
     "iopub.status.idle": "2022-06-29T06:20:00.925758Z",
     "shell.execute_reply": "2022-06-29T06:20:00.925026Z"
    },
    "papermill": {
     "duration": 0.056206,
     "end_time": "2022-06-29T06:20:00.927688",
     "exception": false,
     "start_time": "2022-06-29T06:20:00.871482",
     "status": "completed"
    },
    "tags": []
   },
   "outputs": [
    {
     "data": {
      "text/html": [
       "<div>\n",
       "<style scoped>\n",
       "    .dataframe tbody tr th:only-of-type {\n",
       "        vertical-align: middle;\n",
       "    }\n",
       "\n",
       "    .dataframe tbody tr th {\n",
       "        vertical-align: top;\n",
       "    }\n",
       "\n",
       "    .dataframe thead th {\n",
       "        text-align: right;\n",
       "    }\n",
       "</style>\n",
       "<table border=\"1\" class=\"dataframe\">\n",
       "  <thead>\n",
       "    <tr style=\"text-align: right;\">\n",
       "      <th></th>\n",
       "      <th>Survived</th>\n",
       "      <th>Pclass</th>\n",
       "      <th>Age</th>\n",
       "      <th>SibSp</th>\n",
       "      <th>Parch</th>\n",
       "      <th>Fare</th>\n",
       "    </tr>\n",
       "  </thead>\n",
       "  <tbody>\n",
       "    <tr>\n",
       "      <th>count</th>\n",
       "      <td>891.000000</td>\n",
       "      <td>891.000000</td>\n",
       "      <td>714.000000</td>\n",
       "      <td>891.000000</td>\n",
       "      <td>891.000000</td>\n",
       "      <td>891.000000</td>\n",
       "    </tr>\n",
       "    <tr>\n",
       "      <th>mean</th>\n",
       "      <td>0.383838</td>\n",
       "      <td>2.308642</td>\n",
       "      <td>29.699118</td>\n",
       "      <td>0.523008</td>\n",
       "      <td>0.381594</td>\n",
       "      <td>32.204208</td>\n",
       "    </tr>\n",
       "    <tr>\n",
       "      <th>std</th>\n",
       "      <td>0.486592</td>\n",
       "      <td>0.836071</td>\n",
       "      <td>14.526497</td>\n",
       "      <td>1.102743</td>\n",
       "      <td>0.806057</td>\n",
       "      <td>49.693429</td>\n",
       "    </tr>\n",
       "    <tr>\n",
       "      <th>min</th>\n",
       "      <td>0.000000</td>\n",
       "      <td>1.000000</td>\n",
       "      <td>0.420000</td>\n",
       "      <td>0.000000</td>\n",
       "      <td>0.000000</td>\n",
       "      <td>0.000000</td>\n",
       "    </tr>\n",
       "    <tr>\n",
       "      <th>25%</th>\n",
       "      <td>0.000000</td>\n",
       "      <td>2.000000</td>\n",
       "      <td>20.125000</td>\n",
       "      <td>0.000000</td>\n",
       "      <td>0.000000</td>\n",
       "      <td>7.910400</td>\n",
       "    </tr>\n",
       "    <tr>\n",
       "      <th>50%</th>\n",
       "      <td>0.000000</td>\n",
       "      <td>3.000000</td>\n",
       "      <td>28.000000</td>\n",
       "      <td>0.000000</td>\n",
       "      <td>0.000000</td>\n",
       "      <td>14.454200</td>\n",
       "    </tr>\n",
       "    <tr>\n",
       "      <th>75%</th>\n",
       "      <td>1.000000</td>\n",
       "      <td>3.000000</td>\n",
       "      <td>38.000000</td>\n",
       "      <td>1.000000</td>\n",
       "      <td>0.000000</td>\n",
       "      <td>31.000000</td>\n",
       "    </tr>\n",
       "    <tr>\n",
       "      <th>max</th>\n",
       "      <td>1.000000</td>\n",
       "      <td>3.000000</td>\n",
       "      <td>80.000000</td>\n",
       "      <td>8.000000</td>\n",
       "      <td>6.000000</td>\n",
       "      <td>512.329200</td>\n",
       "    </tr>\n",
       "  </tbody>\n",
       "</table>\n",
       "</div>"
      ],
      "text/plain": [
       "         Survived      Pclass         Age       SibSp       Parch        Fare\n",
       "count  891.000000  891.000000  714.000000  891.000000  891.000000  891.000000\n",
       "mean     0.383838    2.308642   29.699118    0.523008    0.381594   32.204208\n",
       "std      0.486592    0.836071   14.526497    1.102743    0.806057   49.693429\n",
       "min      0.000000    1.000000    0.420000    0.000000    0.000000    0.000000\n",
       "25%      0.000000    2.000000   20.125000    0.000000    0.000000    7.910400\n",
       "50%      0.000000    3.000000   28.000000    0.000000    0.000000   14.454200\n",
       "75%      1.000000    3.000000   38.000000    1.000000    0.000000   31.000000\n",
       "max      1.000000    3.000000   80.000000    8.000000    6.000000  512.329200"
      ]
     },
     "execution_count": 15,
     "metadata": {},
     "output_type": "execute_result"
    }
   ],
   "source": [
    "train.describe()"
   ]
  },
  {
   "cell_type": "code",
   "execution_count": 16,
   "id": "0e605a59",
   "metadata": {
    "execution": {
     "iopub.execute_input": "2022-06-29T06:20:00.974897Z",
     "iopub.status.busy": "2022-06-29T06:20:00.974288Z",
     "iopub.status.idle": "2022-06-29T06:20:00.996278Z",
     "shell.execute_reply": "2022-06-29T06:20:00.995252Z"
    },
    "papermill": {
     "duration": 0.048102,
     "end_time": "2022-06-29T06:20:00.998453",
     "exception": false,
     "start_time": "2022-06-29T06:20:00.950351",
     "status": "completed"
    },
    "tags": []
   },
   "outputs": [
    {
     "data": {
      "text/html": [
       "<div>\n",
       "<style scoped>\n",
       "    .dataframe tbody tr th:only-of-type {\n",
       "        vertical-align: middle;\n",
       "    }\n",
       "\n",
       "    .dataframe tbody tr th {\n",
       "        vertical-align: top;\n",
       "    }\n",
       "\n",
       "    .dataframe thead th {\n",
       "        text-align: right;\n",
       "    }\n",
       "</style>\n",
       "<table border=\"1\" class=\"dataframe\">\n",
       "  <thead>\n",
       "    <tr style=\"text-align: right;\">\n",
       "      <th></th>\n",
       "      <th>Name</th>\n",
       "      <th>Sex</th>\n",
       "      <th>Ticket</th>\n",
       "      <th>Cabin</th>\n",
       "      <th>Embarked</th>\n",
       "    </tr>\n",
       "  </thead>\n",
       "  <tbody>\n",
       "    <tr>\n",
       "      <th>count</th>\n",
       "      <td>891</td>\n",
       "      <td>891</td>\n",
       "      <td>891</td>\n",
       "      <td>204</td>\n",
       "      <td>889</td>\n",
       "    </tr>\n",
       "    <tr>\n",
       "      <th>unique</th>\n",
       "      <td>891</td>\n",
       "      <td>2</td>\n",
       "      <td>681</td>\n",
       "      <td>147</td>\n",
       "      <td>3</td>\n",
       "    </tr>\n",
       "    <tr>\n",
       "      <th>top</th>\n",
       "      <td>Braund, Mr. Owen Harris</td>\n",
       "      <td>male</td>\n",
       "      <td>347082</td>\n",
       "      <td>B96 B98</td>\n",
       "      <td>S</td>\n",
       "    </tr>\n",
       "    <tr>\n",
       "      <th>freq</th>\n",
       "      <td>1</td>\n",
       "      <td>577</td>\n",
       "      <td>7</td>\n",
       "      <td>4</td>\n",
       "      <td>644</td>\n",
       "    </tr>\n",
       "  </tbody>\n",
       "</table>\n",
       "</div>"
      ],
      "text/plain": [
       "                           Name   Sex  Ticket    Cabin Embarked\n",
       "count                       891   891     891      204      889\n",
       "unique                      891     2     681      147        3\n",
       "top     Braund, Mr. Owen Harris  male  347082  B96 B98        S\n",
       "freq                          1   577       7        4      644"
      ]
     },
     "execution_count": 16,
     "metadata": {},
     "output_type": "execute_result"
    }
   ],
   "source": [
    "train.describe(include = [\"O\"])"
   ]
  },
  {
   "cell_type": "markdown",
   "id": "0eb2f7e4",
   "metadata": {
    "papermill": {
     "duration": 0.022853,
     "end_time": "2022-06-29T06:20:01.044123",
     "exception": false,
     "start_time": "2022-06-29T06:20:01.021270",
     "status": "completed"
    },
    "tags": []
   },
   "source": [
    "For numerical features: \n",
    "* Sample size is 40% of the population (891 records out of 2,224)\n",
    "* Around 38% samples survived (mean of binary class \"Survived\")\n",
    "* Most passengers (> 75%) did not travel with parents or children.\n",
    "* Nearly 30% of the passengers had siblings and/or spouse aboard.\n",
    "\n",
    "For categorical features:\n",
    "* No duplicate values in \"Name\" (count = unique)\n",
    "* \"Sex\" is a binary field with 65% being male (freq. of top value (male) is 577 out of 891)\n",
    "* Embarked takes three possible values and port S port was most frequently used"
   ]
  },
  {
   "cell_type": "markdown",
   "id": "e7250de1",
   "metadata": {
    "papermill": {
     "duration": 0.022955,
     "end_time": "2022-06-29T06:20:01.090261",
     "exception": false,
     "start_time": "2022-06-29T06:20:01.067306",
     "status": "completed"
    },
    "tags": []
   },
   "source": [
    "**Modifying the Cabin coloumn**\n",
    "\n",
    "The Cabin coloumn has an unjustifiably large number of unique values. This is based on the presumption that the number allocation in the coloumn following the cabin letter has a negligible impact on a passengers probability of survival. Thus, this coloumn will be modified so as to mitigate the numbers. For records that do not have an entry in this coloumn, \"na\" will be assigned. "
   ]
  },
  {
   "cell_type": "code",
   "execution_count": 17,
   "id": "2a2ccbf6",
   "metadata": {
    "execution": {
     "iopub.execute_input": "2022-06-29T06:20:01.139668Z",
     "iopub.status.busy": "2022-06-29T06:20:01.139262Z",
     "iopub.status.idle": "2022-06-29T06:20:01.145858Z",
     "shell.execute_reply": "2022-06-29T06:20:01.145191Z"
    },
    "papermill": {
     "duration": 0.03321,
     "end_time": "2022-06-29T06:20:01.147587",
     "exception": false,
     "start_time": "2022-06-29T06:20:01.114377",
     "status": "completed"
    },
    "tags": []
   },
   "outputs": [
    {
     "data": {
      "text/plain": [
       "array([nan, 'C85', 'C123', 'E46', 'G6', 'C103', 'D56', 'A6',\n",
       "       'C23 C25 C27', 'B78', 'D33', 'B30', 'C52', 'B28', 'C83', 'F33',\n",
       "       'F G73', 'E31', 'A5', 'D10 D12', 'D26', 'C110', 'B58 B60', 'E101',\n",
       "       'F E69', 'D47', 'B86', 'F2', 'C2', 'E33', 'B19', 'A7', 'C49', 'F4',\n",
       "       'A32', 'B4', 'B80', 'A31', 'D36', 'D15', 'C93', 'C78', 'D35',\n",
       "       'C87', 'B77', 'E67', 'B94', 'C125', 'C99', 'C118', 'D7', 'A19',\n",
       "       'B49', 'D', 'C22 C26', 'C106', 'C65', 'E36', 'C54',\n",
       "       'B57 B59 B63 B66', 'C7', 'E34', 'C32', 'B18', 'C124', 'C91', 'E40',\n",
       "       'T', 'C128', 'D37', 'B35', 'E50', 'C82', 'B96 B98', 'E10', 'E44',\n",
       "       'A34', 'C104', 'C111', 'C92', 'E38', 'D21', 'E12', 'E63', 'A14',\n",
       "       'B37', 'C30', 'D20', 'B79', 'E25', 'D46', 'B73', 'C95', 'B38',\n",
       "       'B39', 'B22', 'C86', 'C70', 'A16', 'C101', 'C68', 'A10', 'E68',\n",
       "       'B41', 'A20', 'D19', 'D50', 'D9', 'A23', 'B50', 'A26', 'D48',\n",
       "       'E58', 'C126', 'B71', 'B51 B53 B55', 'D49', 'B5', 'B20', 'F G63',\n",
       "       'C62 C64', 'E24', 'C90', 'C45', 'E8', 'B101', 'D45', 'C46', 'D30',\n",
       "       'E121', 'D11', 'E77', 'F38', 'B3', 'D6', 'B82 B84', 'D17', 'A36',\n",
       "       'B102', 'B69', 'E49', 'C47', 'D28', 'E17', 'A24', 'C50', 'B42',\n",
       "       'C148'], dtype=object)"
      ]
     },
     "execution_count": 17,
     "metadata": {},
     "output_type": "execute_result"
    }
   ],
   "source": [
    "train[\"Cabin\"].unique()"
   ]
  },
  {
   "cell_type": "code",
   "execution_count": 18,
   "id": "d4c08b99",
   "metadata": {
    "execution": {
     "iopub.execute_input": "2022-06-29T06:20:01.194780Z",
     "iopub.status.busy": "2022-06-29T06:20:01.194381Z",
     "iopub.status.idle": "2022-06-29T06:20:01.204692Z",
     "shell.execute_reply": "2022-06-29T06:20:01.204091Z"
    },
    "papermill": {
     "duration": 0.036136,
     "end_time": "2022-06-29T06:20:01.206477",
     "exception": false,
     "start_time": "2022-06-29T06:20:01.170341",
     "status": "completed"
    },
    "tags": []
   },
   "outputs": [
    {
     "data": {
      "text/plain": [
       "array(['na', 'C', 'E', 'G', 'D', 'A', 'B', 'F', 'T'], dtype=object)"
      ]
     },
     "execution_count": 18,
     "metadata": {},
     "output_type": "execute_result"
    }
   ],
   "source": [
    "train[\"Cabin\"] = train[\"Cabin\"].apply(lambda x : x[0] if pd.notna(x) else \"na\")\n",
    "train[\"Cabin\"].unique()"
   ]
  },
  {
   "cell_type": "code",
   "execution_count": 19,
   "id": "439bb2fb",
   "metadata": {
    "execution": {
     "iopub.execute_input": "2022-06-29T06:20:01.253925Z",
     "iopub.status.busy": "2022-06-29T06:20:01.253487Z",
     "iopub.status.idle": "2022-06-29T06:20:01.261499Z",
     "shell.execute_reply": "2022-06-29T06:20:01.260876Z"
    },
    "papermill": {
     "duration": 0.034029,
     "end_time": "2022-06-29T06:20:01.263370",
     "exception": false,
     "start_time": "2022-06-29T06:20:01.229341",
     "status": "completed"
    },
    "tags": []
   },
   "outputs": [
    {
     "data": {
      "text/plain": [
       "array(['na', 'B', 'E', 'A', 'C', 'D', 'F', 'G'], dtype=object)"
      ]
     },
     "execution_count": 19,
     "metadata": {},
     "output_type": "execute_result"
    }
   ],
   "source": [
    "test[\"Cabin\"] = test[\"Cabin\"].apply(lambda x : x[0] if pd.notna(x) else \"na\")\n",
    "test[\"Cabin\"].unique()"
   ]
  },
  {
   "cell_type": "markdown",
   "id": "fdf7e702",
   "metadata": {
    "papermill": {
     "duration": 0.022992,
     "end_time": "2022-06-29T06:20:01.309342",
     "exception": false,
     "start_time": "2022-06-29T06:20:01.286350",
     "status": "completed"
    },
    "tags": []
   },
   "source": [
    "**Handling missing values**\n",
    "\n",
    "It is not possible to create a model using a dataset with missing values. Thus, it is important to address such records. The most common approaches to handling missing values are:\n",
    "* Dropping records/coloumns in their entirety\n",
    "* Filling in missing values using appropriate method\n",
    "\n",
    "It can be seen above that Age, Cabin, Fare, and Embarked have missing values. However, Cabin was already addressed in the step above. Thus, only the Age, Fare, and Embarked coloumns will be filled.\n",
    "\n",
    "Additionally, here is when unnecessary fields/attributes may be dropped. "
   ]
  },
  {
   "cell_type": "code",
   "execution_count": 20,
   "id": "164ef5fb",
   "metadata": {
    "execution": {
     "iopub.execute_input": "2022-06-29T06:20:01.357438Z",
     "iopub.status.busy": "2022-06-29T06:20:01.356588Z",
     "iopub.status.idle": "2022-06-29T06:20:01.371641Z",
     "shell.execute_reply": "2022-06-29T06:20:01.370728Z"
    },
    "papermill": {
     "duration": 0.041877,
     "end_time": "2022-06-29T06:20:01.374167",
     "exception": false,
     "start_time": "2022-06-29T06:20:01.332290",
     "status": "completed"
    },
    "tags": []
   },
   "outputs": [],
   "source": [
    "train.reset_index(inplace = True)\n",
    "test.reset_index(inplace = True)\n",
    "\n",
    "train.drop([\"PassengerId\", \"Name\", \"Ticket\"], axis = 1, inplace = True)\n",
    "test_passenger_ids = test[\"PassengerId\"]  # Saved seperately for submission file\n",
    "test.drop([\"PassengerId\", \"Name\", \"Ticket\"], axis = 1, inplace = True)\n",
    "\n",
    "train[\"Age\"].fillna(train[\"Age\"].mean(skipna = True), inplace = True)\n",
    "test[\"Age\"].fillna(test[\"Age\"].mean(skipna = True), inplace = True)\n",
    "\n",
    "train[\"Embarked\"].fillna(\"S\", inplace = True)\n",
    "test[\"Embarked\"].fillna(\"S\", inplace = True)\n",
    "\n",
    "test[\"Fare\"].fillna(test[\"Fare\"].mean(skipna = True), inplace = True)"
   ]
  },
  {
   "cell_type": "code",
   "execution_count": 21,
   "id": "6f322e0c",
   "metadata": {
    "execution": {
     "iopub.execute_input": "2022-06-29T06:20:01.423236Z",
     "iopub.status.busy": "2022-06-29T06:20:01.422807Z",
     "iopub.status.idle": "2022-06-29T06:20:01.432174Z",
     "shell.execute_reply": "2022-06-29T06:20:01.431268Z"
    },
    "papermill": {
     "duration": 0.037062,
     "end_time": "2022-06-29T06:20:01.434288",
     "exception": false,
     "start_time": "2022-06-29T06:20:01.397226",
     "status": "completed"
    },
    "tags": []
   },
   "outputs": [
    {
     "data": {
      "text/plain": [
       "Survived    0\n",
       "Pclass      0\n",
       "Sex         0\n",
       "Age         0\n",
       "SibSp       0\n",
       "Parch       0\n",
       "Fare        0\n",
       "Cabin       0\n",
       "Embarked    0\n",
       "dtype: int64"
      ]
     },
     "execution_count": 21,
     "metadata": {},
     "output_type": "execute_result"
    }
   ],
   "source": [
    "train.isna().sum()"
   ]
  },
  {
   "cell_type": "code",
   "execution_count": 22,
   "id": "b1bc3378",
   "metadata": {
    "execution": {
     "iopub.execute_input": "2022-06-29T06:20:01.482668Z",
     "iopub.status.busy": "2022-06-29T06:20:01.481729Z",
     "iopub.status.idle": "2022-06-29T06:20:01.490713Z",
     "shell.execute_reply": "2022-06-29T06:20:01.489842Z"
    },
    "papermill": {
     "duration": 0.035145,
     "end_time": "2022-06-29T06:20:01.492729",
     "exception": false,
     "start_time": "2022-06-29T06:20:01.457584",
     "status": "completed"
    },
    "tags": []
   },
   "outputs": [
    {
     "data": {
      "text/plain": [
       "Pclass      0\n",
       "Sex         0\n",
       "Age         0\n",
       "SibSp       0\n",
       "Parch       0\n",
       "Fare        0\n",
       "Cabin       0\n",
       "Embarked    0\n",
       "dtype: int64"
      ]
     },
     "execution_count": 22,
     "metadata": {},
     "output_type": "execute_result"
    }
   ],
   "source": [
    "test.isna().sum()"
   ]
  },
  {
   "cell_type": "markdown",
   "id": "8ed31be2",
   "metadata": {
    "papermill": {
     "duration": 0.023063,
     "end_time": "2022-06-29T06:20:01.539423",
     "exception": false,
     "start_time": "2022-06-29T06:20:01.516360",
     "status": "completed"
    },
    "tags": []
   },
   "source": [
    "**Label encoding**\n",
    "\n",
    "Since the system can not comprehend string data, all such entries must be converted into numbers using logical techniques."
   ]
  },
  {
   "cell_type": "code",
   "execution_count": 23,
   "id": "bb4d9639",
   "metadata": {
    "execution": {
     "iopub.execute_input": "2022-06-29T06:20:01.588055Z",
     "iopub.status.busy": "2022-06-29T06:20:01.587483Z",
     "iopub.status.idle": "2022-06-29T06:20:01.601799Z",
     "shell.execute_reply": "2022-06-29T06:20:01.600878Z"
    },
    "papermill": {
     "duration": 0.041198,
     "end_time": "2022-06-29T06:20:01.603924",
     "exception": false,
     "start_time": "2022-06-29T06:20:01.562726",
     "status": "completed"
    },
    "tags": []
   },
   "outputs": [],
   "source": [
    "sex = {'male': 0, 'female': 1}\n",
    "train[\"Sex\"] = [sex[i] for i in train[\"Sex\"]] \n",
    "test[\"Sex\"] = [sex[i] for i in test[\"Sex\"]] \n",
    "\n",
    "embarked = {'S': 0, 'C': 1, 'Q':2}\n",
    "train[\"Embarked\"] = [embarked[i] for i in train[\"Embarked\"]] \n",
    "test[\"Embarked\"] = [embarked[i] for i in test[\"Embarked\"]] \n",
    "# train[\"Embarked\"] = train[\"Embarked\"].map(embarked).astype(int)\n",
    "# test[\"Embarked\"] = test[\"Embarked\"].map(embarked).astype(int)\n",
    "\n",
    "cabin_plot = train[[\"Cabin\", \"Survived\"]]\n",
    "train[\"Cabin\"] = LabelEncoder().fit_transform(train[\"Cabin\"])\n",
    "test[\"Cabin\"] = LabelEncoder().fit_transform(test[\"Cabin\"])"
   ]
  },
  {
   "cell_type": "markdown",
   "id": "67e7b606",
   "metadata": {
    "papermill": {
     "duration": 0.02328,
     "end_time": "2022-06-29T06:20:01.650788",
     "exception": false,
     "start_time": "2022-06-29T06:20:01.627508",
     "status": "completed"
    },
    "tags": []
   },
   "source": [
    "<div class = \"alert alert-success\">\n",
    "  <h3 style = \"color:black;\">Exploratory data analysis (EDA)</h3>\n",
    "</div>"
   ]
  },
  {
   "cell_type": "markdown",
   "id": "1812486c",
   "metadata": {
    "papermill": {
     "duration": 0.023322,
     "end_time": "2022-06-29T06:20:01.697560",
     "exception": false,
     "start_time": "2022-06-29T06:20:01.674238",
     "status": "completed"
    },
    "tags": []
   },
   "source": [
    "A picture is worth a thousand words. We will now understand the data using visualization techniques, with the help of Seaborn. "
   ]
  },
  {
   "cell_type": "markdown",
   "id": "7c3b0c65",
   "metadata": {
    "papermill": {
     "duration": 0.023917,
     "end_time": "2022-06-29T06:20:01.744710",
     "exception": false,
     "start_time": "2022-06-29T06:20:01.720793",
     "status": "completed"
    },
    "tags": []
   },
   "source": [
    "<div class = \"alert alert-warning\">\n",
    "</div>"
   ]
  },
  {
   "cell_type": "markdown",
   "id": "505fb8fd",
   "metadata": {
    "papermill": {
     "duration": 0.023091,
     "end_time": "2022-06-29T06:20:01.791372",
     "exception": false,
     "start_time": "2022-06-29T06:20:01.768281",
     "status": "completed"
    },
    "tags": []
   },
   "source": [
    "**Distribution of age**"
   ]
  },
  {
   "cell_type": "code",
   "execution_count": 24,
   "id": "b6a40980",
   "metadata": {
    "execution": {
     "iopub.execute_input": "2022-06-29T06:20:01.839961Z",
     "iopub.status.busy": "2022-06-29T06:20:01.839566Z",
     "iopub.status.idle": "2022-06-29T06:20:02.160259Z",
     "shell.execute_reply": "2022-06-29T06:20:02.159633Z"
    },
    "papermill": {
     "duration": 0.347381,
     "end_time": "2022-06-29T06:20:02.162189",
     "exception": false,
     "start_time": "2022-06-29T06:20:01.814808",
     "status": "completed"
    },
    "tags": []
   },
   "outputs": [
    {
     "data": {
      "image/png": "[encoded data removed]",
      "text/plain": [
       "<Figure size 1440x720 with 1 Axes>"
      ]
     },
     "metadata": {
      "needs_background": "light"
     },
     "output_type": "display_data"
    }
   ],
   "source": [
    "plt.figure(figsize = (20,10))\n",
    "sns.histplot(x = \"Age\", data = train)\n",
    "plt.title(\"Histogram (Age)\")\n",
    "plt.show()"
   ]
  },
  {
   "cell_type": "code",
   "execution_count": 25,
   "id": "77af7b29",
   "metadata": {
    "execution": {
     "iopub.execute_input": "2022-06-29T06:20:02.211885Z",
     "iopub.status.busy": "2022-06-29T06:20:02.211253Z",
     "iopub.status.idle": "2022-06-29T06:20:02.450367Z",
     "shell.execute_reply": "2022-06-29T06:20:02.449391Z"
    },
    "papermill": {
     "duration": 0.266414,
     "end_time": "2022-06-29T06:20:02.452403",
     "exception": false,
     "start_time": "2022-06-29T06:20:02.185989",
     "status": "completed"
    },
    "tags": []
   },
   "outputs": [
    {
     "data": {
      "image/png": "[encoded data removed]",
      "text/plain": [
       "<Figure size 1440x720 with 1 Axes>"
      ]
     },
     "metadata": {
      "needs_background": "light"
     },
     "output_type": "display_data"
    }
   ],
   "source": [
    "plt.figure(figsize = (20,10))\n",
    "sns.kdeplot(x = \"Age\", data = train, fill = True)\n",
    "plt.title(\"KDE (Age)\")\n",
    "plt.show()"
   ]
  },
  {
   "cell_type": "code",
   "execution_count": 26,
   "id": "cc11fe88",
   "metadata": {
    "execution": {
     "iopub.execute_input": "2022-06-29T06:20:02.503850Z",
     "iopub.status.busy": "2022-06-29T06:20:02.503379Z",
     "iopub.status.idle": "2022-06-29T06:20:02.676401Z",
     "shell.execute_reply": "2022-06-29T06:20:02.675418Z"
    },
    "papermill": {
     "duration": 0.201177,
     "end_time": "2022-06-29T06:20:02.678529",
     "exception": false,
     "start_time": "2022-06-29T06:20:02.477352",
     "status": "completed"
    },
    "tags": []
   },
   "outputs": [
    {
     "data": {
      "image/png": "[encoded data removed]",
      "text/plain": [
       "<Figure size 1440x144 with 1 Axes>"
      ]
     },
     "metadata": {
      "needs_background": "light"
     },
     "output_type": "display_data"
    }
   ],
   "source": [
    "plt.figure(figsize = (20,2))\n",
    "sns.boxplot(x = \"Age\", data = train)\n",
    "plt.title(\"Boxplot (Age)\")\n",
    "plt.show()"
   ]
  },
  {
   "cell_type": "code",
   "execution_count": 27,
   "id": "4fd2ed52",
   "metadata": {
    "execution": {
     "iopub.execute_input": "2022-06-29T06:20:02.729747Z",
     "iopub.status.busy": "2022-06-29T06:20:02.729311Z",
     "iopub.status.idle": "2022-06-29T06:20:02.899626Z",
     "shell.execute_reply": "2022-06-29T06:20:02.898654Z"
    },
    "papermill": {
     "duration": 0.198697,
     "end_time": "2022-06-29T06:20:02.901982",
     "exception": false,
     "start_time": "2022-06-29T06:20:02.703285",
     "status": "completed"
    },
    "tags": []
   },
   "outputs": [
    {
     "data": {
      "image/png": "[encoded data removed]",
      "text/plain": [
       "<Figure size 1440x144 with 1 Axes>"
      ]
     },
     "metadata": {
      "needs_background": "light"
     },
     "output_type": "display_data"
    }
   ],
   "source": [
    "plt.figure(figsize = (20,2))\n",
    "sns.violinplot(x = \"Age\", data = train)\n",
    "plt.title(\"Violin plot (Age)\")\n",
    "plt.show()"
   ]
  },
  {
   "cell_type": "markdown",
   "id": "7f7486f8",
   "metadata": {
    "papermill": {
     "duration": 0.032524,
     "end_time": "2022-06-29T06:20:02.960421",
     "exception": false,
     "start_time": "2022-06-29T06:20:02.927897",
     "status": "completed"
    },
    "tags": []
   },
   "source": [
    "<div class = \"alert alert-warning\">\n",
    "</div>"
   ]
  },
  {
   "cell_type": "markdown",
   "id": "9936b8aa",
   "metadata": {
    "papermill": {
     "duration": 0.024782,
     "end_time": "2022-06-29T06:20:03.010487",
     "exception": false,
     "start_time": "2022-06-29T06:20:02.985705",
     "status": "completed"
    },
    "tags": []
   },
   "source": [
    "**Distribution of fare**"
   ]
  },
  {
   "cell_type": "code",
   "execution_count": 28,
   "id": "cdb969af",
   "metadata": {
    "execution": {
     "iopub.execute_input": "2022-06-29T06:20:03.062486Z",
     "iopub.status.busy": "2022-06-29T06:20:03.061797Z",
     "iopub.status.idle": "2022-06-29T06:20:03.469742Z",
     "shell.execute_reply": "2022-06-29T06:20:03.468880Z"
    },
    "papermill": {
     "duration": 0.436983,
     "end_time": "2022-06-29T06:20:03.472542",
     "exception": false,
     "start_time": "2022-06-29T06:20:03.035559",
     "status": "completed"
    },
    "tags": []
   },
   "outputs": [
    {
     "data": {
      "image/png": "[encoded data removed]",
      "text/plain": [
       "<Figure size 1440x720 with 1 Axes>"
      ]
     },
     "metadata": {
      "needs_background": "light"
     },
     "output_type": "display_data"
    }
   ],
   "source": [
    "plt.figure(figsize = (20,10))\n",
    "sns.histplot(x = \"Fare\", data = train)\n",
    "plt.title(\"Histogram (Fare)\")\n",
    "plt.show()"
   ]
  },
  {
   "cell_type": "code",
   "execution_count": 29,
   "id": "c379b697",
   "metadata": {
    "execution": {
     "iopub.execute_input": "2022-06-29T06:20:03.524841Z",
     "iopub.status.busy": "2022-06-29T06:20:03.524183Z",
     "iopub.status.idle": "2022-06-29T06:20:03.773646Z",
     "shell.execute_reply": "2022-06-29T06:20:03.772683Z"
    },
    "papermill": {
     "duration": 0.279153,
     "end_time": "2022-06-29T06:20:03.776864",
     "exception": false,
     "start_time": "2022-06-29T06:20:03.497711",
     "status": "completed"
    },
    "tags": []
   },
   "outputs": [
    {
     "data": {
      "image/png": "[encoded data removed]",
      "text/plain": [
       "<Figure size 1440x720 with 1 Axes>"
      ]
     },
     "metadata": {
      "needs_background": "light"
     },
     "output_type": "display_data"
    }
   ],
   "source": [
    "plt.figure(figsize = (20,10))\n",
    "sns.kdeplot(x = \"Fare\", data = train, fill = True)\n",
    "plt.title(\"KDE (Fare)\")\n",
    "plt.show()"
   ]
  },
  {
   "cell_type": "code",
   "execution_count": 30,
   "id": "1103212c",
   "metadata": {
    "execution": {
     "iopub.execute_input": "2022-06-29T06:20:03.831255Z",
     "iopub.status.busy": "2022-06-29T06:20:03.830580Z",
     "iopub.status.idle": "2022-06-29T06:20:03.989529Z",
     "shell.execute_reply": "2022-06-29T06:20:03.988773Z"
    },
    "papermill": {
     "duration": 0.188704,
     "end_time": "2022-06-29T06:20:03.991690",
     "exception": false,
     "start_time": "2022-06-29T06:20:03.802986",
     "status": "completed"
    },
    "tags": []
   },
   "outputs": [
    {
     "data": {
      "image/png": "[encoded data removed]",
      "text/plain": [
       "<Figure size 1440x144 with 1 Axes>"
      ]
     },
     "metadata": {
      "needs_background": "light"
     },
     "output_type": "display_data"
    }
   ],
   "source": [
    "plt.figure(figsize = (20,2))\n",
    "sns.boxplot(x = \"Fare\", data = train)\n",
    "plt.title(\"Boxplot (Fare)\")\n",
    "plt.show()"
   ]
  },
  {
   "cell_type": "code",
   "execution_count": 31,
   "id": "968c2c61",
   "metadata": {
    "execution": {
     "iopub.execute_input": "2022-06-29T06:20:04.046350Z",
     "iopub.status.busy": "2022-06-29T06:20:04.045509Z",
     "iopub.status.idle": "2022-06-29T06:20:04.213019Z",
     "shell.execute_reply": "2022-06-29T06:20:04.212350Z"
    },
    "papermill": {
     "duration": 0.196617,
     "end_time": "2022-06-29T06:20:04.214835",
     "exception": false,
     "start_time": "2022-06-29T06:20:04.018218",
     "status": "completed"
    },
    "tags": []
   },
   "outputs": [
    {
     "data": {
      "image/png": "[encoded data removed]",
      "text/plain": [
       "<Figure size 1440x144 with 1 Axes>"
      ]
     },
     "metadata": {
      "needs_background": "light"
     },
     "output_type": "display_data"
    }
   ],
   "source": [
    "plt.figure(figsize = (20,2))\n",
    "sns.violinplot(x = \"Fare\", data = train)\n",
    "plt.title(\"Violin plot (Fare)\")\n",
    "plt.show()"
   ]
  },
  {
   "cell_type": "markdown",
   "id": "4f87cd2a",
   "metadata": {
    "papermill": {
     "duration": 0.02597,
     "end_time": "2022-06-29T06:20:04.267046",
     "exception": false,
     "start_time": "2022-06-29T06:20:04.241076",
     "status": "completed"
    },
    "tags": []
   },
   "source": [
    "<div class = \"alert alert-warning\">\n",
    "</div>"
   ]
  },
  {
   "cell_type": "markdown",
   "id": "158d3533",
   "metadata": {
    "papermill": {
     "duration": 0.02595,
     "end_time": "2022-06-29T06:20:04.319242",
     "exception": false,
     "start_time": "2022-06-29T06:20:04.293292",
     "status": "completed"
    },
    "tags": []
   },
   "source": [
    "**Distribution of gender**"
   ]
  },
  {
   "cell_type": "code",
   "execution_count": 32,
   "id": "c829ff7d",
   "metadata": {
    "execution": {
     "iopub.execute_input": "2022-06-29T06:20:04.373565Z",
     "iopub.status.busy": "2022-06-29T06:20:04.372936Z",
     "iopub.status.idle": "2022-06-29T06:20:04.536343Z",
     "shell.execute_reply": "2022-06-29T06:20:04.535223Z"
    },
    "papermill": {
     "duration": 0.193208,
     "end_time": "2022-06-29T06:20:04.538571",
     "exception": false,
     "start_time": "2022-06-29T06:20:04.345363",
     "status": "completed"
    },
    "tags": []
   },
   "outputs": [
    {
     "data": {
      "image/png": "[encoded data removed]",
      "text/plain": [
       "<Figure size 720x360 with 1 Axes>"
      ]
     },
     "metadata": {
      "needs_background": "light"
     },
     "output_type": "display_data"
    }
   ],
   "source": [
    "plt.figure(figsize = (10, 5))\n",
    "sns.countplot(x = \"Sex\", data = train)\n",
    "plt.title(\"Countplot (Sex)\")\n",
    "plt.xticks([0, 1], [\"Male\", \"Female\"])\n",
    "plt.show()"
   ]
  },
  {
   "cell_type": "markdown",
   "id": "9392b952",
   "metadata": {
    "papermill": {
     "duration": 0.026228,
     "end_time": "2022-06-29T06:20:04.591867",
     "exception": false,
     "start_time": "2022-06-29T06:20:04.565639",
     "status": "completed"
    },
    "tags": []
   },
   "source": [
    "<div class = \"alert alert-warning\">\n",
    "</div>"
   ]
  },
  {
   "cell_type": "markdown",
   "id": "2d945f8a",
   "metadata": {
    "papermill": {
     "duration": 0.026179,
     "end_time": "2022-06-29T06:20:04.644911",
     "exception": false,
     "start_time": "2022-06-29T06:20:04.618732",
     "status": "completed"
    },
    "tags": []
   },
   "source": [
    "**Relation of various features with Survived**"
   ]
  },
  {
   "cell_type": "code",
   "execution_count": 33,
   "id": "6d18c088",
   "metadata": {
    "execution": {
     "iopub.execute_input": "2022-06-29T06:20:04.700280Z",
     "iopub.status.busy": "2022-06-29T06:20:04.699906Z",
     "iopub.status.idle": "2022-06-29T06:20:04.930169Z",
     "shell.execute_reply": "2022-06-29T06:20:04.929198Z"
    },
    "papermill": {
     "duration": 0.261178,
     "end_time": "2022-06-29T06:20:04.932485",
     "exception": false,
     "start_time": "2022-06-29T06:20:04.671307",
     "status": "completed"
    },
    "tags": []
   },
   "outputs": [
    {
     "data": {
      "image/png": "[encoded data removed]",
      "text/plain": [
       "<Figure size 1440x720 with 1 Axes>"
      ]
     },
     "metadata": {
      "needs_background": "light"
     },
     "output_type": "display_data"
    }
   ],
   "source": [
    "plt.figure(figsize = (20, 10))\n",
    "sns.countplot(x = \"Pclass\", hue = \"Survived\", data = train)\n",
    "plt.title(\"Survived VS Pclass\")\n",
    "plt.show()"
   ]
  },
  {
   "cell_type": "code",
   "execution_count": 34,
   "id": "a76ceb8a",
   "metadata": {
    "execution": {
     "iopub.execute_input": "2022-06-29T06:20:04.989279Z",
     "iopub.status.busy": "2022-06-29T06:20:04.988834Z",
     "iopub.status.idle": "2022-06-29T06:20:05.112655Z",
     "shell.execute_reply": "2022-06-29T06:20:05.111337Z"
    },
    "papermill": {
     "duration": 0.156179,
     "end_time": "2022-06-29T06:20:05.115863",
     "exception": false,
     "start_time": "2022-06-29T06:20:04.959684",
     "status": "completed"
    },
    "tags": []
   },
   "outputs": [
    {
     "data": {
      "image/png": "[encoded data removed]",
      "text/plain": [
       "<Figure size 720x360 with 1 Axes>"
      ]
     },
     "metadata": {},
     "output_type": "display_data"
    }
   ],
   "source": [
    "plt.figure(figsize = (10, 5))\n",
    "train.loc[train[\"Sex\"] == 0, \"Survived\"].value_counts().plot.pie(autopct=\"%1.1f%%\")\n",
    "plt.title(\"Percentage survived (Male)\")\n",
    "plt.show()"
   ]
  },
  {
   "cell_type": "code",
   "execution_count": 35,
   "id": "e3f84daf",
   "metadata": {
    "execution": {
     "iopub.execute_input": "2022-06-29T06:20:05.208685Z",
     "iopub.status.busy": "2022-06-29T06:20:05.208064Z",
     "iopub.status.idle": "2022-06-29T06:20:05.309276Z",
     "shell.execute_reply": "2022-06-29T06:20:05.307688Z"
    },
    "papermill": {
     "duration": 0.147033,
     "end_time": "2022-06-29T06:20:05.313889",
     "exception": false,
     "start_time": "2022-06-29T06:20:05.166856",
     "status": "completed"
    },
    "tags": []
   },
   "outputs": [
    {
     "data": {
      "image/png": "[encoded data removed]",
      "text/plain": [
       "<Figure size 720x360 with 1 Axes>"
      ]
     },
     "metadata": {},
     "output_type": "display_data"
    }
   ],
   "source": [
    "plt.figure(figsize = (10, 5))\n",
    "train.loc[train[\"Sex\"] == 1, \"Survived\"].value_counts().plot.pie(autopct=\"%1.1f%%\")\n",
    "plt.title(\"Percentage survived (Female)\")\n",
    "plt.show()"
   ]
  },
  {
   "cell_type": "code",
   "execution_count": 36,
   "id": "c87394f5",
   "metadata": {
    "execution": {
     "iopub.execute_input": "2022-06-29T06:20:05.407438Z",
     "iopub.status.busy": "2022-06-29T06:20:05.406718Z",
     "iopub.status.idle": "2022-06-29T06:20:05.830330Z",
     "shell.execute_reply": "2022-06-29T06:20:05.828814Z"
    },
    "papermill": {
     "duration": 0.468495,
     "end_time": "2022-06-29T06:20:05.832464",
     "exception": false,
     "start_time": "2022-06-29T06:20:05.363969",
     "status": "completed"
    },
    "tags": []
   },
   "outputs": [
    {
     "data": {
      "image/png": "[encoded data removed]",
      "text/plain": [
       "<Figure size 1440x720 with 1 Axes>"
      ]
     },
     "metadata": {
      "needs_background": "light"
     },
     "output_type": "display_data"
    }
   ],
   "source": [
    "plt.figure(figsize = (20, 10))\n",
    "sns.countplot(x = \"SibSp\", hue = \"Survived\", data = train)\n",
    "plt.title(\"Survived VS SibSp\")\n",
    "plt.show()"
   ]
  },
  {
   "cell_type": "code",
   "execution_count": 37,
   "id": "55d694e0",
   "metadata": {
    "execution": {
     "iopub.execute_input": "2022-06-29T06:20:05.891689Z",
     "iopub.status.busy": "2022-06-29T06:20:05.890922Z",
     "iopub.status.idle": "2022-06-29T06:20:06.175726Z",
     "shell.execute_reply": "2022-06-29T06:20:06.174765Z"
    },
    "papermill": {
     "duration": 0.317031,
     "end_time": "2022-06-29T06:20:06.178063",
     "exception": false,
     "start_time": "2022-06-29T06:20:05.861032",
     "status": "completed"
    },
    "tags": []
   },
   "outputs": [
    {
     "data": {
      "image/png": "[encoded data removed]",
      "text/plain": [
       "<Figure size 1440x720 with 1 Axes>"
      ]
     },
     "metadata": {
      "needs_background": "light"
     },
     "output_type": "display_data"
    }
   ],
   "source": [
    "plt.figure(figsize = (20, 10))\n",
    "sns.countplot(x = \"Cabin\", hue = \"Survived\", data = cabin_plot)\n",
    "plt.title(\"Survived VS Cabin\")\n",
    "plt.show()"
   ]
  },
  {
   "cell_type": "code",
   "execution_count": 38,
   "id": "c950f684",
   "metadata": {
    "execution": {
     "iopub.execute_input": "2022-06-29T06:20:06.235934Z",
     "iopub.status.busy": "2022-06-29T06:20:06.235192Z",
     "iopub.status.idle": "2022-06-29T06:20:06.501423Z",
     "shell.execute_reply": "2022-06-29T06:20:06.500651Z"
    },
    "papermill": {
     "duration": 0.29749,
     "end_time": "2022-06-29T06:20:06.503462",
     "exception": false,
     "start_time": "2022-06-29T06:20:06.205972",
     "status": "completed"
    },
    "tags": []
   },
   "outputs": [
    {
     "data": {
      "image/png": "[encoded data removed]",
      "text/plain": [
       "<Figure size 1440x720 with 1 Axes>"
      ]
     },
     "metadata": {
      "needs_background": "light"
     },
     "output_type": "display_data"
    }
   ],
   "source": [
    "plt.figure(figsize = (20, 10))\n",
    "sns.kdeplot(x = \"Age\", hue = \"Survived\", data = train, shade = True)\n",
    "plt.title(\"Survived VS Age\")\n",
    "plt.show()"
   ]
  },
  {
   "cell_type": "code",
   "execution_count": 39,
   "id": "eb22d0a3",
   "metadata": {
    "execution": {
     "iopub.execute_input": "2022-06-29T06:20:06.563428Z",
     "iopub.status.busy": "2022-06-29T06:20:06.562694Z",
     "iopub.status.idle": "2022-06-29T06:20:06.840471Z",
     "shell.execute_reply": "2022-06-29T06:20:06.839730Z"
    },
    "papermill": {
     "duration": 0.310205,
     "end_time": "2022-06-29T06:20:06.842648",
     "exception": false,
     "start_time": "2022-06-29T06:20:06.532443",
     "status": "completed"
    },
    "tags": []
   },
   "outputs": [
    {
     "data": {
      "image/png": "[encoded data removed]",
      "text/plain": [
       "<Figure size 1440x720 with 1 Axes>"
      ]
     },
     "metadata": {
      "needs_background": "light"
     },
     "output_type": "display_data"
    }
   ],
   "source": [
    "plt.figure(figsize = (20, 10))\n",
    "sns.kdeplot(x = \"Fare\", hue = \"Survived\", data = train, shade = True)\n",
    "plt.title(\"Survived VS Fare\")\n",
    "plt.show()"
   ]
  },
  {
   "cell_type": "markdown",
   "id": "6eaa0277",
   "metadata": {
    "papermill": {
     "duration": 0.029358,
     "end_time": "2022-06-29T06:20:06.902320",
     "exception": false,
     "start_time": "2022-06-29T06:20:06.872962",
     "status": "completed"
    },
    "tags": []
   },
   "source": [
    "<div class = \"alert alert-warning\">\n",
    "</div>"
   ]
  },
  {
   "cell_type": "markdown",
   "id": "712eeca8",
   "metadata": {
    "papermill": {
     "duration": 0.029331,
     "end_time": "2022-06-29T06:20:06.961222",
     "exception": false,
     "start_time": "2022-06-29T06:20:06.931891",
     "status": "completed"
    },
    "tags": []
   },
   "source": [
    "**Relation of various features with Age and Survived**"
   ]
  },
  {
   "cell_type": "code",
   "execution_count": 40,
   "id": "3eeb3869",
   "metadata": {
    "execution": {
     "iopub.execute_input": "2022-06-29T06:20:07.021989Z",
     "iopub.status.busy": "2022-06-29T06:20:07.021541Z",
     "iopub.status.idle": "2022-06-29T06:20:08.501575Z",
     "shell.execute_reply": "2022-06-29T06:20:08.500560Z"
    },
    "papermill": {
     "duration": 1.514866,
     "end_time": "2022-06-29T06:20:08.505623",
     "exception": false,
     "start_time": "2022-06-29T06:20:06.990757",
     "status": "completed"
    },
    "tags": []
   },
   "outputs": [
    {
     "data": {
      "image/png": "[encoded data removed]",
      "text/plain": [
       "<Figure size 1440x1440 with 6 Axes>"
      ]
     },
     "metadata": {
      "needs_background": "light"
     },
     "output_type": "display_data"
    }
   ],
   "source": [
    "fig, axes = plt.subplots(3, 2, figsize = (20, 20))\n",
    "\n",
    "sns.violinplot(x = \"Pclass\", y = \"Age\", hue = \"Survived\", split = True, data = train, ax = axes[0, 0])\n",
    "sns.violinplot(x = \"Sex\", y = \"Age\", hue = \"Survived\", split = True, data = train, ax = axes[0, 1])\n",
    "sns.violinplot(x = \"SibSp\", y = \"Age\", hue = \"Survived\", split = True, data = train, ax = axes[1, 0])\n",
    "sns.violinplot(x = \"Parch\", y = \"Age\", hue = \"Survived\", split = True, data = train, ax = axes[1, 1])\n",
    "sns.violinplot(x = \"Embarked\", y = \"Age\", hue = \"Survived\", split = True, data = train, ax = axes[2, 0])\n",
    "sns.violinplot(x = \"Cabin\", y = \"Age\", hue = \"Survived\", split = True, data = train, ax = axes[2, 1])\n",
    "\n",
    "plt.show()"
   ]
  },
  {
   "cell_type": "markdown",
   "id": "6fce395f",
   "metadata": {
    "papermill": {
     "duration": 0.034826,
     "end_time": "2022-06-29T06:20:08.573249",
     "exception": false,
     "start_time": "2022-06-29T06:20:08.538423",
     "status": "completed"
    },
    "tags": []
   },
   "source": [
    "<div class = \"alert alert-warning\">\n",
    "</div>"
   ]
  },
  {
   "cell_type": "markdown",
   "id": "a05a57b3",
   "metadata": {
    "papermill": {
     "duration": 0.032273,
     "end_time": "2022-06-29T06:20:08.637991",
     "exception": false,
     "start_time": "2022-06-29T06:20:08.605718",
     "status": "completed"
    },
    "tags": []
   },
   "source": [
    "<div class = \"alert alert-success\">\n",
    "  <h3 style = \"color:black;\">Model creation and evaluation</h3>\n",
    "</div>"
   ]
  },
  {
   "cell_type": "markdown",
   "id": "5af427ce",
   "metadata": {
    "papermill": {
     "duration": 0.032211,
     "end_time": "2022-06-29T06:20:08.702346",
     "exception": false,
     "start_time": "2022-06-29T06:20:08.670135",
     "status": "completed"
    },
    "tags": []
   },
   "source": [
    "There is a wide array of predictive modeling algorithms at our disposal. The algorithm(s) chosen is contingent on the problem itself and solution requirement. The problem posed here is a classification problem, in that the model must use the features provided to classify an unknown passenger as a survivior (1) or victim (0). Additionally, the category of machine learning seen here is supervised learning, since we have a labelled training dataset from which the model is created. Taking these points into consideration, we may decide on few algorithms to implement. The ones implemented here are:\n",
    "\n",
    "1. Decision tree\n",
    "2. Random forest\n",
    "3. Naive Bayes\n",
    "4. K-nearest neighbours\n",
    "5. Support vector machine"
   ]
  },
  {
   "cell_type": "code",
   "execution_count": 41,
   "id": "b878dc93",
   "metadata": {
    "execution": {
     "iopub.execute_input": "2022-06-29T06:20:08.768603Z",
     "iopub.status.busy": "2022-06-29T06:20:08.768075Z",
     "iopub.status.idle": "2022-06-29T06:20:08.777667Z",
     "shell.execute_reply": "2022-06-29T06:20:08.776889Z"
    },
    "papermill": {
     "duration": 0.045273,
     "end_time": "2022-06-29T06:20:08.779893",
     "exception": false,
     "start_time": "2022-06-29T06:20:08.734620",
     "status": "completed"
    },
    "tags": []
   },
   "outputs": [
    {
     "data": {
      "text/plain": [
       "((712, 8), (179, 8), (712,), (179,))"
      ]
     },
     "execution_count": 41,
     "metadata": {},
     "output_type": "execute_result"
    }
   ],
   "source": [
    "y = train[\"Survived\"]\n",
    "X = train.drop(\"Survived\", axis = 1)\n",
    "X_train, X_test, y_train, y_test = train_test_split(X, y, test_size = 0.2, random_state = 1)\n",
    "X_train.shape, X_test.shape, y_train.shape, y_test.shape"
   ]
  },
  {
   "cell_type": "markdown",
   "id": "15b29e32",
   "metadata": {
    "papermill": {
     "duration": 0.031857,
     "end_time": "2022-06-29T06:20:08.843935",
     "exception": false,
     "start_time": "2022-06-29T06:20:08.812078",
     "status": "completed"
    },
    "tags": []
   },
   "source": [
    "**Decision tree classifier**\n",
    "\n",
    "It is a tree-structured classifier, where internal nodes represent the features of a dataset, branches represent the decision rules and each leaf node represents the outcome. In a Decision tree, there are two nodes, which are the Decision Node and Leaf Node. There are generally two types of decision trees. Models where the target variable can take a finite set of values are called classification trees. Trees where the target variable can take continuous values (typically real numbers) are called regression trees.\n",
    "\n",
    "![](https://cdn-images-1.medium.com/max/824/0*J2l5dvJ2jqRwGDfG.png)"
   ]
  },
  {
   "cell_type": "code",
   "execution_count": 42,
   "id": "138f777a",
   "metadata": {
    "execution": {
     "iopub.execute_input": "2022-06-29T06:20:08.912468Z",
     "iopub.status.busy": "2022-06-29T06:20:08.911910Z",
     "iopub.status.idle": "2022-06-29T06:20:08.925182Z",
     "shell.execute_reply": "2022-06-29T06:20:08.924294Z"
    },
    "papermill": {
     "duration": 0.050694,
     "end_time": "2022-06-29T06:20:08.927539",
     "exception": false,
     "start_time": "2022-06-29T06:20:08.876845",
     "status": "completed"
    },
    "tags": []
   },
   "outputs": [
    {
     "name": "stdout",
     "output_type": "stream",
     "text": [
      "Accuracy: 74.86033519553072\n"
     ]
    }
   ],
   "source": [
    "decision_tree_model = DecisionTreeClassifier(random_state = 2)\n",
    "decision_tree_model.fit(X_train, y_train)\n",
    "y_pred = decision_tree_model.predict(X_test)\n",
    "decision_tree_model_acc = accuracy_score(y_pred, y_test) * 100\n",
    "print(\"Accuracy:\", decision_tree_model_acc)"
   ]
  },
  {
   "cell_type": "markdown",
   "id": "8f1b63a8",
   "metadata": {
    "papermill": {
     "duration": 0.032315,
     "end_time": "2022-06-29T06:20:08.993404",
     "exception": false,
     "start_time": "2022-06-29T06:20:08.961089",
     "status": "completed"
    },
    "tags": []
   },
   "source": [
    "**Random forest classifier**\n",
    "\n",
    "The random forest classifier is an improvement over decision tree classifiers. Based on ensemble learning, a random forest classifier contains a number of decision trees on various subsets of the given dataset and takes the average to improve the predictive accuracy of that dataset. In general, a greater number of trees in the forest leads to higher accuracy and prevents the problem of overfitting.\n",
    "\n",
    "![](https://static.javatpoint.com/tutorial/machine-learning/images/random-forest-algorithm.png)"
   ]
  },
  {
   "cell_type": "code",
   "execution_count": 43,
   "id": "9a2fd6c9",
   "metadata": {
    "execution": {
     "iopub.execute_input": "2022-06-29T06:20:09.060500Z",
     "iopub.status.busy": "2022-06-29T06:20:09.059882Z",
     "iopub.status.idle": "2022-06-29T06:20:12.635317Z",
     "shell.execute_reply": "2022-06-29T06:20:12.634266Z"
    },
    "papermill": {
     "duration": 3.612858,
     "end_time": "2022-06-29T06:20:12.638938",
     "exception": false,
     "start_time": "2022-06-29T06:20:09.026080",
     "status": "completed"
    },
    "tags": []
   },
   "outputs": [
    {
     "name": "stderr",
     "output_type": "stream",
     "text": [
      "[Parallel(n_jobs=1)]: Using backend SequentialBackend with 1 concurrent workers.\n",
      "[Parallel(n_jobs=1)]: Done 1750 out of 1750 | elapsed:    2.6s finished\n",
      "[Parallel(n_jobs=1)]: Using backend SequentialBackend with 1 concurrent workers.\n"
     ]
    },
    {
     "name": "stdout",
     "output_type": "stream",
     "text": [
      "Accuracy: 79.3296089385475\n"
     ]
    },
    {
     "name": "stderr",
     "output_type": "stream",
     "text": [
      "[Parallel(n_jobs=1)]: Done 1750 out of 1750 | elapsed:    0.2s finished\n"
     ]
    }
   ],
   "source": [
    "random_forest_model = RandomForestClassifier(criterion='gini',\n",
    "                                            n_estimators=1750,\n",
    "                                            max_depth=7,\n",
    "                                            min_samples_split=6,\n",
    "                                            min_samples_leaf=6,\n",
    "                                            max_features='auto',\n",
    "                                            verbose=1,\n",
    "                                            random_state = 3)\n",
    "random_forest_model.fit(X_train, y_train)\n",
    "y_pred = random_forest_model.predict(X_test)\n",
    "random_forest_model_acc = accuracy_score(y_pred, y_test) * 100\n",
    "print(\"Accuracy:\", random_forest_model_acc)"
   ]
  },
  {
   "cell_type": "markdown",
   "id": "7f51bb1b",
   "metadata": {
    "papermill": {
     "duration": 0.033282,
     "end_time": "2022-06-29T06:20:12.705718",
     "exception": false,
     "start_time": "2022-06-29T06:20:12.672436",
     "status": "completed"
    },
    "tags": []
   },
   "source": [
    "**Naive Bayes classifier**\n",
    "\n",
    "The Naïve Bayes classifier is a probabilistic classifier that uses Bayes theorem. It assumes complete independance between the features. \n",
    "![](https://s3.ap-south-1.amazonaws.com/techleer/204.png)\n"
   ]
  },
  {
   "cell_type": "code",
   "execution_count": 44,
   "id": "a2dde7eb",
   "metadata": {
    "execution": {
     "iopub.execute_input": "2022-06-29T06:20:12.774300Z",
     "iopub.status.busy": "2022-06-29T06:20:12.773871Z",
     "iopub.status.idle": "2022-06-29T06:20:12.785460Z",
     "shell.execute_reply": "2022-06-29T06:20:12.784613Z"
    },
    "papermill": {
     "duration": 0.049739,
     "end_time": "2022-06-29T06:20:12.788634",
     "exception": false,
     "start_time": "2022-06-29T06:20:12.738895",
     "status": "completed"
    },
    "tags": []
   },
   "outputs": [
    {
     "name": "stdout",
     "output_type": "stream",
     "text": [
      "Accuracy: 73.18435754189943\n"
     ]
    }
   ],
   "source": [
    "NB_model = GaussianNB()\n",
    "NB_model.fit(X_train, y_train)\n",
    "y_pred = NB_model.predict(X_test)\n",
    "NB_model_acc = accuracy_score(y_pred, y_test) * 100\n",
    "print(\"Accuracy:\", NB_model_acc)"
   ]
  },
  {
   "cell_type": "markdown",
   "id": "5885bf74",
   "metadata": {
    "papermill": {
     "duration": 0.033846,
     "end_time": "2022-06-29T06:20:12.856768",
     "exception": false,
     "start_time": "2022-06-29T06:20:12.822922",
     "status": "completed"
    },
    "tags": []
   },
   "source": [
    "**K-nearest neighbours classifier**\n",
    "\n",
    "The K-nearest neighbours (KNN) classifier uses proximity to make classifications or predictions about independent data points. This technique may be used for both classification and regression scenarios and the output will vary. In classification instances, a decision is made based on majority vote, i.e., the class assigned to the new data point is taken to be the one that is most frequently seen in the vicinity of the point. KNN is also known as a lazy learner technique since a model is not learned. Instead, the raw data is stored and used everytime a prediction must be made.\n",
    "![](http://res.cloudinary.com/dyd911kmh/image/upload/f_auto,q_auto:best/v1531424125/KNN_final1_ibdm8a.png)"
   ]
  },
  {
   "cell_type": "code",
   "execution_count": 45,
   "id": "fb0b6ff5",
   "metadata": {
    "execution": {
     "iopub.execute_input": "2022-06-29T06:20:12.926957Z",
     "iopub.status.busy": "2022-06-29T06:20:12.926322Z",
     "iopub.status.idle": "2022-06-29T06:20:12.944295Z",
     "shell.execute_reply": "2022-06-29T06:20:12.943368Z"
    },
    "papermill": {
     "duration": 0.055181,
     "end_time": "2022-06-29T06:20:12.946329",
     "exception": false,
     "start_time": "2022-06-29T06:20:12.891148",
     "status": "completed"
    },
    "tags": []
   },
   "outputs": [
    {
     "name": "stdout",
     "output_type": "stream",
     "text": [
      "Accuracy: 72.62569832402235\n"
     ]
    }
   ],
   "source": [
    "knn_model = KNeighborsClassifier(n_neighbors = 5)\n",
    "knn_model.fit(X_train, y_train)\n",
    "y_pred = knn_model.predict(X_test)\n",
    "knn_model_acc = accuracy_score(y_pred, y_test) * 100\n",
    "print(\"Accuracy:\", knn_model_acc)"
   ]
  },
  {
   "cell_type": "markdown",
   "id": "4ea0c6cb",
   "metadata": {
    "papermill": {
     "duration": 0.033138,
     "end_time": "2022-06-29T06:20:13.012771",
     "exception": false,
     "start_time": "2022-06-29T06:20:12.979633",
     "status": "completed"
    },
    "tags": []
   },
   "source": [
    "**Support vector machines**\n",
    "\n",
    "Support vector machines (SVM) are a class of machine learning algorithms that map data to a high dimensionality feature space in such a manner that the data points can be categorized, even when they are not otherwise linearly seperable. A seperator between the categories is found and a hyperplane is drawn accordingly. Support vectors are those data points that are close to the hyperplane and influence the position and orientation of the hyperplane. The function used to map data to a high dimensionality feature space is called a kernel function.\n",
    "![](http://res.cloudinary.com/dyd911kmh/image/upload/f_auto,q_auto:best/v1526288453/index3_souoaz.png)"
   ]
  },
  {
   "cell_type": "code",
   "execution_count": 46,
   "id": "35e53cc6",
   "metadata": {
    "execution": {
     "iopub.execute_input": "2022-06-29T06:20:13.081790Z",
     "iopub.status.busy": "2022-06-29T06:20:13.081372Z",
     "iopub.status.idle": "2022-06-29T06:20:13.116214Z",
     "shell.execute_reply": "2022-06-29T06:20:13.115069Z"
    },
    "papermill": {
     "duration": 0.072879,
     "end_time": "2022-06-29T06:20:13.118718",
     "exception": false,
     "start_time": "2022-06-29T06:20:13.045839",
     "status": "completed"
    },
    "tags": []
   },
   "outputs": [
    {
     "name": "stdout",
     "output_type": "stream",
     "text": [
      "Accuracy: 65.92178770949721\n"
     ]
    }
   ],
   "source": [
    "svm_model = SVC()\n",
    "svm_model.fit(X_train, y_train)\n",
    "y_pred = svm_model.predict(X_test)\n",
    "svm_model_acc = accuracy_score(y_pred, y_test) * 100\n",
    "print(\"Accuracy:\", svm_model_acc)"
   ]
  },
  {
   "cell_type": "markdown",
   "id": "6ae739dc",
   "metadata": {
    "papermill": {
     "duration": 0.032966,
     "end_time": "2022-06-29T06:20:13.184959",
     "exception": false,
     "start_time": "2022-06-29T06:20:13.151993",
     "status": "completed"
    },
    "tags": []
   },
   "source": [
    "<div class = \"alert alert-success\">\n",
    "  <h3 style = \"color:black;\">Submission file</h3>\n",
    "</div>"
   ]
  },
  {
   "cell_type": "code",
   "execution_count": 47,
   "id": "1b905c00",
   "metadata": {
    "execution": {
     "iopub.execute_input": "2022-06-29T06:20:13.253468Z",
     "iopub.status.busy": "2022-06-29T06:20:13.252752Z",
     "iopub.status.idle": "2022-06-29T06:20:13.264736Z",
     "shell.execute_reply": "2022-06-29T06:20:13.264003Z"
    },
    "papermill": {
     "duration": 0.048356,
     "end_time": "2022-06-29T06:20:13.266527",
     "exception": false,
     "start_time": "2022-06-29T06:20:13.218171",
     "status": "completed"
    },
    "tags": []
   },
   "outputs": [
    {
     "data": {
      "text/html": [
       "<div>\n",
       "<style scoped>\n",
       "    .dataframe tbody tr th:only-of-type {\n",
       "        vertical-align: middle;\n",
       "    }\n",
       "\n",
       "    .dataframe tbody tr th {\n",
       "        vertical-align: top;\n",
       "    }\n",
       "\n",
       "    .dataframe thead th {\n",
       "        text-align: right;\n",
       "    }\n",
       "</style>\n",
       "<table border=\"1\" class=\"dataframe\">\n",
       "  <thead>\n",
       "    <tr style=\"text-align: right;\">\n",
       "      <th></th>\n",
       "      <th>Model</th>\n",
       "      <th>Accuracy score</th>\n",
       "    </tr>\n",
       "  </thead>\n",
       "  <tbody>\n",
       "    <tr>\n",
       "      <th>4</th>\n",
       "      <td>SVM</td>\n",
       "      <td>65.921788</td>\n",
       "    </tr>\n",
       "    <tr>\n",
       "      <th>3</th>\n",
       "      <td>KNN</td>\n",
       "      <td>72.625698</td>\n",
       "    </tr>\n",
       "    <tr>\n",
       "      <th>2</th>\n",
       "      <td>Naive Bayes classifier</td>\n",
       "      <td>73.184358</td>\n",
       "    </tr>\n",
       "    <tr>\n",
       "      <th>0</th>\n",
       "      <td>Decision tree classifier</td>\n",
       "      <td>74.860335</td>\n",
       "    </tr>\n",
       "    <tr>\n",
       "      <th>1</th>\n",
       "      <td>Random forest classifier</td>\n",
       "      <td>79.329609</td>\n",
       "    </tr>\n",
       "  </tbody>\n",
       "</table>\n",
       "</div>"
      ],
      "text/plain": [
       "                      Model  Accuracy score\n",
       "4                       SVM       65.921788\n",
       "3                       KNN       72.625698\n",
       "2    Naive Bayes classifier       73.184358\n",
       "0  Decision tree classifier       74.860335\n",
       "1  Random forest classifier       79.329609"
      ]
     },
     "execution_count": 47,
     "metadata": {},
     "output_type": "execute_result"
    }
   ],
   "source": [
    "all_models = pd.DataFrame({\n",
    "    \"Model\" : [\"Decision tree classifier\", \"Random forest classifier\", \"Naive Bayes classifier\", \"KNN\", \"SVM\"],\n",
    "    \"Accuracy score\" : [decision_tree_model_acc, random_forest_model_acc, NB_model_acc, knn_model_acc, svm_model_acc]\n",
    "})\n",
    "all_models.sort_values(by = \"Accuracy score\")"
   ]
  },
  {
   "cell_type": "markdown",
   "id": "bc941ec0",
   "metadata": {
    "papermill": {
     "duration": 0.033582,
     "end_time": "2022-06-29T06:20:13.334492",
     "exception": false,
     "start_time": "2022-06-29T06:20:13.300910",
     "status": "completed"
    },
    "tags": []
   },
   "source": [
    "After comparing the models above, it appears that the Random Forest classifier had the best performance with an accuracy score of approximately 79.33. Ergo, this is the model that will be used to create the final submission file. "
   ]
  },
  {
   "cell_type": "code",
   "execution_count": 48,
   "id": "eba6db6f",
   "metadata": {
    "execution": {
     "iopub.execute_input": "2022-06-29T06:20:13.403766Z",
     "iopub.status.busy": "2022-06-29T06:20:13.403089Z",
     "iopub.status.idle": "2022-06-29T06:20:17.142402Z",
     "shell.execute_reply": "2022-06-29T06:20:17.141444Z"
    },
    "papermill": {
     "duration": 3.776586,
     "end_time": "2022-06-29T06:20:17.144500",
     "exception": false,
     "start_time": "2022-06-29T06:20:13.367914",
     "status": "completed"
    },
    "tags": []
   },
   "outputs": [
    {
     "name": "stderr",
     "output_type": "stream",
     "text": [
      "[Parallel(n_jobs=1)]: Using backend SequentialBackend with 1 concurrent workers.\n",
      "[Parallel(n_jobs=1)]: Done 1750 out of 1750 | elapsed:    2.7s finished\n",
      "[Parallel(n_jobs=1)]: Using backend SequentialBackend with 1 concurrent workers.\n",
      "[Parallel(n_jobs=1)]: Done 1750 out of 1750 | elapsed:    0.3s finished\n"
     ]
    }
   ],
   "source": [
    "random_forest_model = RandomForestClassifier(criterion='gini',\n",
    "                                            n_estimators=1750,\n",
    "                                            max_depth=7,\n",
    "                                            min_samples_split=6,\n",
    "                                            min_samples_leaf=6,\n",
    "                                            max_features='auto',\n",
    "                                            verbose=1,\n",
    "                                            random_state = 3)\n",
    "random_forest_model.fit(X, y)\n",
    "y_pred = random_forest_model.predict(test)"
   ]
  },
  {
   "cell_type": "code",
   "execution_count": 49,
   "id": "68439b0c",
   "metadata": {
    "execution": {
     "iopub.execute_input": "2022-06-29T06:20:17.215681Z",
     "iopub.status.busy": "2022-06-29T06:20:17.214998Z",
     "iopub.status.idle": "2022-06-29T06:20:17.225798Z",
     "shell.execute_reply": "2022-06-29T06:20:17.224621Z"
    },
    "papermill": {
     "duration": 0.048556,
     "end_time": "2022-06-29T06:20:17.227953",
     "exception": false,
     "start_time": "2022-06-29T06:20:17.179397",
     "status": "completed"
    },
    "tags": []
   },
   "outputs": [
    {
     "data": {
      "text/html": [
       "<div>\n",
       "<style scoped>\n",
       "    .dataframe tbody tr th:only-of-type {\n",
       "        vertical-align: middle;\n",
       "    }\n",
       "\n",
       "    .dataframe tbody tr th {\n",
       "        vertical-align: top;\n",
       "    }\n",
       "\n",
       "    .dataframe thead th {\n",
       "        text-align: right;\n",
       "    }\n",
       "</style>\n",
       "<table border=\"1\" class=\"dataframe\">\n",
       "  <thead>\n",
       "    <tr style=\"text-align: right;\">\n",
       "      <th></th>\n",
       "      <th>PassengerId</th>\n",
       "      <th>Survived</th>\n",
       "    </tr>\n",
       "  </thead>\n",
       "  <tbody>\n",
       "    <tr>\n",
       "      <th>0</th>\n",
       "      <td>892</td>\n",
       "      <td>0</td>\n",
       "    </tr>\n",
       "    <tr>\n",
       "      <th>1</th>\n",
       "      <td>893</td>\n",
       "      <td>0</td>\n",
       "    </tr>\n",
       "    <tr>\n",
       "      <th>2</th>\n",
       "      <td>894</td>\n",
       "      <td>0</td>\n",
       "    </tr>\n",
       "    <tr>\n",
       "      <th>3</th>\n",
       "      <td>895</td>\n",
       "      <td>0</td>\n",
       "    </tr>\n",
       "    <tr>\n",
       "      <th>4</th>\n",
       "      <td>896</td>\n",
       "      <td>1</td>\n",
       "    </tr>\n",
       "    <tr>\n",
       "      <th>5</th>\n",
       "      <td>897</td>\n",
       "      <td>0</td>\n",
       "    </tr>\n",
       "    <tr>\n",
       "      <th>6</th>\n",
       "      <td>898</td>\n",
       "      <td>1</td>\n",
       "    </tr>\n",
       "    <tr>\n",
       "      <th>7</th>\n",
       "      <td>899</td>\n",
       "      <td>0</td>\n",
       "    </tr>\n",
       "    <tr>\n",
       "      <th>8</th>\n",
       "      <td>900</td>\n",
       "      <td>1</td>\n",
       "    </tr>\n",
       "    <tr>\n",
       "      <th>9</th>\n",
       "      <td>901</td>\n",
       "      <td>0</td>\n",
       "    </tr>\n",
       "  </tbody>\n",
       "</table>\n",
       "</div>"
      ],
      "text/plain": [
       "   PassengerId  Survived\n",
       "0          892         0\n",
       "1          893         0\n",
       "2          894         0\n",
       "3          895         0\n",
       "4          896         1\n",
       "5          897         0\n",
       "6          898         1\n",
       "7          899         0\n",
       "8          900         1\n",
       "9          901         0"
      ]
     },
     "execution_count": 49,
     "metadata": {},
     "output_type": "execute_result"
    }
   ],
   "source": [
    "submission = pd.DataFrame({\n",
    "    \"PassengerId\" : test_passenger_ids,\n",
    "    \"Survived\" : y_pred\n",
    "})\n",
    "submission.head(10)"
   ]
  },
  {
   "cell_type": "code",
   "execution_count": 50,
   "id": "0166f2e9",
   "metadata": {
    "execution": {
     "iopub.execute_input": "2022-06-29T06:20:17.300001Z",
     "iopub.status.busy": "2022-06-29T06:20:17.299305Z",
     "iopub.status.idle": "2022-06-29T06:20:17.307170Z",
     "shell.execute_reply": "2022-06-29T06:20:17.306330Z"
    },
    "papermill": {
     "duration": 0.047221,
     "end_time": "2022-06-29T06:20:17.309500",
     "exception": false,
     "start_time": "2022-06-29T06:20:17.262279",
     "status": "completed"
    },
    "tags": []
   },
   "outputs": [],
   "source": [
    "submission.to_csv('submission.csv', index = False)"
   ]
  }
 ],
 "metadata": {
  "kernelspec": {
   "display_name": "Python 3",
   "language": "python",
   "name": "python3"
  },
  "language_info": {
   "codemirror_mode": {
    "name": "ipython",
    "version": 3
   },
   "file_extension": ".py",
   "mimetype": "text/x-python",
   "name": "python",
   "nbconvert_exporter": "python",
   "pygments_lexer": "ipython3",
   "version": "3.7.12"
  },
  "papermill": {
   "default_parameters": {},
   "duration": 30.291983,
   "end_time": "2022-06-29T06:20:18.164999",
   "environment_variables": {},
   "exception": null,
   "input_path": "__notebook__.ipynb",
   "output_path": "__notebook__.ipynb",
   "parameters": {},
   "start_time": "2022-06-29T06:19:47.873016",
   "version": "2.3.4"
  }
 },
 "nbformat": 4,
 "nbformat_minor": 5
}
